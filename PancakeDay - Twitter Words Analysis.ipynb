{
 "cells": [
  {
   "cell_type": "markdown",
   "metadata": {},
   "source": [
    "# Words Analysis "
   ]
  },
  {
   "cell_type": "markdown",
   "metadata": {},
   "source": [
    "## Data Cleaning"
   ]
  },
  {
   "cell_type": "code",
   "execution_count": 1,
   "metadata": {},
   "outputs": [],
   "source": [
    "import json\n",
    "import pandas as pd\n",
    "import numpy as np\n",
    "\n",
    "import matplotlib.pyplot as plt\n",
    "%matplotlib inline\n",
    "\n",
    "import seaborn as sb\n",
    "import os\n",
    "\n",
    "\n",
    "pd.set_option('display.max_rows', 300) # specifies number of rows to show\n",
    "# specifies default number format to 4 decimal places\n",
    "pd.options.display.float_format = '{:40,.2f}'.format \n",
    "pd.options.display.max_colwidth \n",
    "pd.options.display.max_colwidth = 1500"
   ]
  },
  {
   "cell_type": "code",
   "execution_count": 2,
   "metadata": {},
   "outputs": [],
   "source": [
    "# For Cleaning Tweets and Sentiment Analysis\n",
    "import string\n",
    "import nltk\n",
    "\n",
    "from nltk.tokenize import RegexpTokenizer\n",
    "from nltk.corpus import stopwords\n",
    "from nltk.tokenize import word_tokenize"
   ]
  },
  {
   "cell_type": "code",
   "execution_count": 3,
   "metadata": {},
   "outputs": [
    {
     "name": "stderr",
     "output_type": "stream",
     "text": [
      "[nltk_data] Downloading package stopwords to\n",
      "[nltk_data]     /Users/audevuilliomenet/nltk_data...\n",
      "[nltk_data]   Package stopwords is already up-to-date!\n",
      "[nltk_data] Downloading package punkt to\n",
      "[nltk_data]     /Users/audevuilliomenet/nltk_data...\n",
      "[nltk_data]   Package punkt is already up-to-date!\n"
     ]
    }
   ],
   "source": [
    "#import nltk and download all stopwords and punctuations\n",
    "nltk.download('stopwords')\n",
    "nltk.download('punkt')\n",
    "\n",
    "import re"
   ]
  },
  {
   "cell_type": "code",
   "execution_count": 4,
   "metadata": {},
   "outputs": [
    {
     "data": {
      "text/html": [
       "<script type=\"text/javascript\">window.PlotlyConfig = {MathJaxConfig: 'local'};</script><script type=\"text/javascript\">if (window.MathJax) {MathJax.Hub.Config({SVG: {font: \"STIX-Web\"}});}</script><script>requirejs.config({paths: { 'plotly': ['https://cdn.plot.ly/plotly-latest.min']},});if(!window._Plotly) {require(['plotly'],function(plotly) {window._Plotly=plotly;});}</script>"
      ],
      "text/vnd.plotly.v1+html": [
       "<script type=\"text/javascript\">window.PlotlyConfig = {MathJaxConfig: 'local'};</script><script type=\"text/javascript\">if (window.MathJax) {MathJax.Hub.Config({SVG: {font: \"STIX-Web\"}});}</script><script>requirejs.config({paths: { 'plotly': ['https://cdn.plot.ly/plotly-latest.min']},});if(!window._Plotly) {require(['plotly'],function(plotly) {window._Plotly=plotly;});}</script>"
      ]
     },
     "metadata": {},
     "output_type": "display_data"
    }
   ],
   "source": [
    "# Need to install plotly before using it! Run the !pip command bellow!\n",
    "# !pip install plotly\n",
    "from plotly import __version__\n",
    "from plotly.offline import download_plotlyjs, init_notebook_mode, plot, iplot\n",
    "\n",
    "import plotly.graph_objs as go\n",
    "from plotly.graph_objs import *\n",
    "import plotly.io as pio\n",
    "\n",
    "#You can also plot your graphs offline inside a Jupyter Notebook Environment. \n",
    "#First you need to initiate the Plotly Notebook mode as below:\n",
    "init_notebook_mode(connected=True)"
   ]
  },
  {
   "cell_type": "code",
   "execution_count": 5,
   "metadata": {},
   "outputs": [
    {
     "data": {
      "text/html": [
       "<div>\n",
       "<style scoped>\n",
       "    .dataframe tbody tr th:only-of-type {\n",
       "        vertical-align: middle;\n",
       "    }\n",
       "\n",
       "    .dataframe tbody tr th {\n",
       "        vertical-align: top;\n",
       "    }\n",
       "\n",
       "    .dataframe thead th {\n",
       "        text-align: right;\n",
       "    }\n",
       "</style>\n",
       "<table border=\"1\" class=\"dataframe\">\n",
       "  <thead>\n",
       "    <tr style=\"text-align: right;\">\n",
       "      <th></th>\n",
       "      <th>Unnamed: 0</th>\n",
       "      <th>Date</th>\n",
       "      <th>UserID</th>\n",
       "      <th>UserScreenName</th>\n",
       "      <th>Text</th>\n",
       "      <th>UserLocation</th>\n",
       "      <th>UserFollowers</th>\n",
       "      <th>UserFriends</th>\n",
       "      <th>UserLanguage</th>\n",
       "      <th>RetweetUserID</th>\n",
       "      <th>Just_Date</th>\n",
       "      <th>Hour</th>\n",
       "    </tr>\n",
       "  </thead>\n",
       "  <tbody>\n",
       "    <tr>\n",
       "      <th>0</th>\n",
       "      <td>0</td>\n",
       "      <td>2019-03-06 23:59:53+00:00</td>\n",
       "      <td>1,100,000,000,000,000,000.00</td>\n",
       "      <td>SevignyMel</td>\n",
       "      <td>RT @ColeTheBlackCat: Happy Pancake Day! 🍴\\n#PancakeDay #PancakeTuesday #PanCakeDay2019 #ColeAndMarmalade https://t.co/AJkMoG3KFB</td>\n",
       "      <td>Central Florida, USA</td>\n",
       "      <td>9.00</td>\n",
       "      <td>85.00</td>\n",
       "      <td>en</td>\n",
       "      <td>1,040,000,000,000,000,000.00</td>\n",
       "      <td>2019-03-06</td>\n",
       "      <td>23</td>\n",
       "    </tr>\n",
       "    <tr>\n",
       "      <th>1</th>\n",
       "      <td>1</td>\n",
       "      <td>2019-03-06 23:59:31+00:00</td>\n",
       "      <td>1,100,000,000,000,000,000.00</td>\n",
       "      <td>traceylockley</td>\n",
       "      <td>RT @Missguided: Happy #PancakeDay babes 💖🥞Think your pancakes are 💯+ wanna win a £100 MG voucher?\\n\\n1. Follow, RT + like this tweet\\n2. Reply to this thread with a pic of your pancakes\\n3. Tell us why you should win using the hashtag #RateMyPancakes\\n\\n✨Winner announced Thursday (📸@sugarberrry) https://t.co/GNKDkhX2GM</td>\n",
       "      <td>Hampshire, England</td>\n",
       "      <td>114.00</td>\n",
       "      <td>716.00</td>\n",
       "      <td>en-GB</td>\n",
       "      <td>3,911,179,642.00</td>\n",
       "      <td>2019-03-06</td>\n",
       "      <td>23</td>\n",
       "    </tr>\n",
       "    <tr>\n",
       "      <th>2</th>\n",
       "      <td>2</td>\n",
       "      <td>2019-03-06 23:59:20+00:00</td>\n",
       "      <td>1,100,000,000,000,000,000.00</td>\n",
       "      <td>FelixSarconaIT</td>\n",
       "      <td>RT @sesamestreet: Celebrating #PancakeDay with @elmo pancakes by @Tiger__Tomato! 🥞 https://t.co/Eun6nxYIX8</td>\n",
       "      <td>NaN</td>\n",
       "      <td>nan</td>\n",
       "      <td>7.00</td>\n",
       "      <td>en</td>\n",
       "      <td>3,280,419,312.00</td>\n",
       "      <td>2019-03-06</td>\n",
       "      <td>23</td>\n",
       "    </tr>\n",
       "    <tr>\n",
       "      <th>3</th>\n",
       "      <td>3</td>\n",
       "      <td>2019-03-06 23:58:44+00:00</td>\n",
       "      <td>1,100,000,000,000,000,000.00</td>\n",
       "      <td>Eliequeen</td>\n",
       "      <td>@MagnetUK 🥞  #Competition #Prize #Giveaway #PancakeDay</td>\n",
       "      <td>NaN</td>\n",
       "      <td>586.00</td>\n",
       "      <td>5,002.00</td>\n",
       "      <td>en</td>\n",
       "      <td>58,843,664.00</td>\n",
       "      <td>2019-03-06</td>\n",
       "      <td>23</td>\n",
       "    </tr>\n",
       "  </tbody>\n",
       "</table>\n",
       "</div>"
      ],
      "text/plain": [
       "   Unnamed: 0                       Date  \\\n",
       "0           0  2019-03-06 23:59:53+00:00   \n",
       "1           1  2019-03-06 23:59:31+00:00   \n",
       "2           2  2019-03-06 23:59:20+00:00   \n",
       "3           3  2019-03-06 23:58:44+00:00   \n",
       "\n",
       "                                    UserID  UserScreenName  \\\n",
       "0             1,100,000,000,000,000,000.00      SevignyMel   \n",
       "1             1,100,000,000,000,000,000.00   traceylockley   \n",
       "2             1,100,000,000,000,000,000.00  FelixSarconaIT   \n",
       "3             1,100,000,000,000,000,000.00       Eliequeen   \n",
       "\n",
       "                                                                                                                                                                                                                                                                                                                               Text  \\\n",
       "0                                                                                                                                                                                                  RT @ColeTheBlackCat: Happy Pancake Day! 🍴\\n#PancakeDay #PancakeTuesday #PanCakeDay2019 #ColeAndMarmalade https://t.co/AJkMoG3KFB   \n",
       "1  RT @Missguided: Happy #PancakeDay babes 💖🥞Think your pancakes are 💯+ wanna win a £100 MG voucher?\\n\\n1. Follow, RT + like this tweet\\n2. Reply to this thread with a pic of your pancakes\\n3. Tell us why you should win using the hashtag #RateMyPancakes\\n\\n✨Winner announced Thursday (📸@sugarberrry) https://t.co/GNKDkhX2GM   \n",
       "2                                                                                                                                                                                                                        RT @sesamestreet: Celebrating #PancakeDay with @elmo pancakes by @Tiger__Tomato! 🥞 https://t.co/Eun6nxYIX8   \n",
       "3                                                                                                                                                                                                                                                                            @MagnetUK 🥞  #Competition #Prize #Giveaway #PancakeDay   \n",
       "\n",
       "           UserLocation                            UserFollowers  \\\n",
       "0  Central Florida, USA                                     9.00   \n",
       "1    Hampshire, England                                   114.00   \n",
       "2                   NaN                                      nan   \n",
       "3                   NaN                                   586.00   \n",
       "\n",
       "                               UserFriends UserLanguage  \\\n",
       "0                                    85.00           en   \n",
       "1                                   716.00        en-GB   \n",
       "2                                     7.00           en   \n",
       "3                                 5,002.00           en   \n",
       "\n",
       "                             RetweetUserID   Just_Date  Hour  \n",
       "0             1,040,000,000,000,000,000.00  2019-03-06    23  \n",
       "1                         3,911,179,642.00  2019-03-06    23  \n",
       "2                         3,280,419,312.00  2019-03-06    23  \n",
       "3                            58,843,664.00  2019-03-06    23  "
      ]
     },
     "execution_count": 5,
     "metadata": {},
     "output_type": "execute_result"
    }
   ],
   "source": [
    "#df.to_csv(\"Tweeter_Data.csv\")\n",
    "twittertext = pd.read_csv(\"Tweeter_Data.csv\")\n",
    "twittertext.head(4)"
   ]
  },
  {
   "cell_type": "code",
   "execution_count": 6,
   "metadata": {},
   "outputs": [
    {
     "data": {
      "text/plain": [
       "(70969, 12)"
      ]
     },
     "execution_count": 6,
     "metadata": {},
     "output_type": "execute_result"
    }
   ],
   "source": [
    "twittertext.shape"
   ]
  },
  {
   "cell_type": "code",
   "execution_count": 7,
   "metadata": {},
   "outputs": [],
   "source": [
    "twittertext = twittertext.drop(['Unnamed: 0'], axis=1)"
   ]
  },
  {
   "cell_type": "code",
   "execution_count": 8,
   "metadata": {
    "scrolled": true
   },
   "outputs": [
    {
     "data": {
      "text/html": [
       "<div>\n",
       "<style scoped>\n",
       "    .dataframe tbody tr th:only-of-type {\n",
       "        vertical-align: middle;\n",
       "    }\n",
       "\n",
       "    .dataframe tbody tr th {\n",
       "        vertical-align: top;\n",
       "    }\n",
       "\n",
       "    .dataframe thead th {\n",
       "        text-align: right;\n",
       "    }\n",
       "</style>\n",
       "<table border=\"1\" class=\"dataframe\">\n",
       "  <thead>\n",
       "    <tr style=\"text-align: right;\">\n",
       "      <th></th>\n",
       "      <th>Date</th>\n",
       "      <th>UserID</th>\n",
       "      <th>UserScreenName</th>\n",
       "      <th>Text</th>\n",
       "      <th>UserLocation</th>\n",
       "      <th>UserFollowers</th>\n",
       "      <th>UserFriends</th>\n",
       "      <th>UserLanguage</th>\n",
       "      <th>RetweetUserID</th>\n",
       "      <th>Just_Date</th>\n",
       "      <th>Hour</th>\n",
       "    </tr>\n",
       "  </thead>\n",
       "  <tbody>\n",
       "    <tr>\n",
       "      <th>0</th>\n",
       "      <td>2019-03-06 23:59:53+00:00</td>\n",
       "      <td>1,100,000,000,000,000,000.00</td>\n",
       "      <td>SevignyMel</td>\n",
       "      <td>RT @ColeTheBlackCat: Happy Pancake Day! 🍴\\n#PancakeDay #PancakeTuesday #PanCakeDay2019 #ColeAndMarmalade https://t.co/AJkMoG3KFB</td>\n",
       "      <td>Central Florida, USA</td>\n",
       "      <td>9.00</td>\n",
       "      <td>85.00</td>\n",
       "      <td>en</td>\n",
       "      <td>1,040,000,000,000,000,000.00</td>\n",
       "      <td>2019-03-06</td>\n",
       "      <td>23</td>\n",
       "    </tr>\n",
       "  </tbody>\n",
       "</table>\n",
       "</div>"
      ],
      "text/plain": [
       "                        Date                                   UserID  \\\n",
       "0  2019-03-06 23:59:53+00:00             1,100,000,000,000,000,000.00   \n",
       "\n",
       "  UserScreenName  \\\n",
       "0     SevignyMel   \n",
       "\n",
       "                                                                                                                               Text  \\\n",
       "0  RT @ColeTheBlackCat: Happy Pancake Day! 🍴\\n#PancakeDay #PancakeTuesday #PanCakeDay2019 #ColeAndMarmalade https://t.co/AJkMoG3KFB   \n",
       "\n",
       "           UserLocation                            UserFollowers  \\\n",
       "0  Central Florida, USA                                     9.00   \n",
       "\n",
       "                               UserFriends UserLanguage  \\\n",
       "0                                    85.00           en   \n",
       "\n",
       "                             RetweetUserID   Just_Date  Hour  \n",
       "0             1,040,000,000,000,000,000.00  2019-03-06    23  "
      ]
     },
     "execution_count": 8,
     "metadata": {},
     "output_type": "execute_result"
    }
   ],
   "source": [
    "twittertext.head(1)"
   ]
  },
  {
   "cell_type": "code",
   "execution_count": 9,
   "metadata": {},
   "outputs": [],
   "source": [
    "# Remove all the https\n",
    "twittertext.Text = twittertext.Text.str.replace(r'http\\S+','')"
   ]
  },
  {
   "cell_type": "code",
   "execution_count": 10,
   "metadata": {},
   "outputs": [],
   "source": [
    "# Remove all the '\\n' line-brakes\n",
    "twittertext.Text = twittertext.Text.str.replace(r'\\n','')"
   ]
  },
  {
   "cell_type": "code",
   "execution_count": 11,
   "metadata": {},
   "outputs": [],
   "source": [
    "# Remove 'non-ascii' characters\n",
    "twittertext.Text = twittertext.Text.str.replace(r'[^\\x00-\\x7F]','')\n",
    "# Make all the text lowercase\n",
    "twittertext.Text = twittertext.Text.str.lower()"
   ]
  },
  {
   "cell_type": "code",
   "execution_count": 12,
   "metadata": {},
   "outputs": [],
   "source": [
    "#create a column for all #hasthtags that appears in the text\n",
    "twittertext['hashtags'] = twittertext.Text.str.findall(r'#\\S+')\n",
    "#create a column for all @twitter handles that appears in the tweets\n",
    "twittertext['twitter_handles'] = twittertext.Text.str.findall(r'@[\\w]*')"
   ]
  },
  {
   "cell_type": "code",
   "execution_count": 13,
   "metadata": {},
   "outputs": [],
   "source": [
    "# Remove all the punctuation \n",
    "twittertext['cleanText'] = twittertext.Text.apply(\n",
    "    lambda x:x.translate(str.maketrans('','', string.punctuation)))"
   ]
  },
  {
   "cell_type": "code",
   "execution_count": 27,
   "metadata": {},
   "outputs": [],
   "source": [
    "#rename_words = {'pancakes':'pancake'}\n",
    "twittertext['cleanText'] = twittertext['cleanText'].replace(regex=r'pancakes.$', value='pancake')"
   ]
  },
  {
   "cell_type": "markdown",
   "metadata": {},
   "source": [
    "Looking at the cleanText column, we can see that there are still some words that we won't need for the tweeters words analysis. For example, 'rt' and 'amp' aren't really useful to understand what the people are telling about PancakeDay. Moreover, the cleanText columns contain the hashtags and twitter handles, this can be a bit annoying when analyzing the content of the tweets. Let's create column without the hashtags and handles!"
   ]
  },
  {
   "cell_type": "code",
   "execution_count": 16,
   "metadata": {},
   "outputs": [],
   "source": [
    "# Create a column for clean text that do not have #hashtags and the twitter_handles!\n",
    "twittertext['no_hashhand_cleanText']  = twittertext.Text.str.replace(r'#\\S+','')\n",
    "# Remove the @twitter_handles from the tweets\n",
    "twittertext.no_hashhand_cleanText  = twittertext.no_hashhand_cleanText.str.replace(r'@[\\w]*','')\n",
    "# And Remove all the other punctuation!\n",
    "twittertext['no_hashhand_cleanText'] = twittertext.no_hashhand_cleanText.apply(\n",
    "    lambda x:x.translate(str.maketrans('','', string.punctuation)))"
   ]
  },
  {
   "cell_type": "code",
   "execution_count": 17,
   "metadata": {},
   "outputs": [],
   "source": [
    "# Tokenise all of the clean text\n",
    "twittertext['all_tokenText'] = twittertext.cleanText.apply(word_tokenize)\n",
    "twittertext['no_hashhand_tokenText'] = twittertext.no_hashhand_cleanText.apply(word_tokenize)"
   ]
  },
  {
   "cell_type": "code",
   "execution_count": 18,
   "metadata": {},
   "outputs": [],
   "source": [
    "# Count the number of Token in the tweets\n",
    "twittertext['all_tokenCount'] = twittertext.all_tokenText.apply(len)\n",
    "twittertext['no_hashhand_tokenText'] = twittertext.no_hashhand_tokenText.apply(len)"
   ]
  },
  {
   "cell_type": "code",
   "execution_count": 19,
   "metadata": {},
   "outputs": [],
   "source": [
    "# Remove all the stopwords and the other useless words!\n",
    "stop = stopwords.words('english')\n",
    "other = ['rt','amp']\n",
    "\n",
    "remove = stop + other\n",
    "\n",
    "# Exclude stopwords with Python's list comprehension and pandas.DataFrame.apply.\n",
    "twittertext['all_noStopWords'] = twittertext['cleanText'].apply(\n",
    "    lambda x: ' '.join([word for word in x.split() if word not in (remove)]))\n",
    "\n",
    "# Exclude stopwords with Python's list comprehension and pandas.DataFrame.apply.\n",
    "twittertext['no_hashhand_noStopWords'] = twittertext['no_hashhand_cleanText'].apply(\n",
    "    lambda x: ' '.join([word for word in x.split() if word not in (remove)]))"
   ]
  },
  {
   "cell_type": "code",
   "execution_count": 20,
   "metadata": {},
   "outputs": [],
   "source": [
    "#tokenise all of the text with NoStop words\n",
    "twittertext['all_tokenText_noStop'] = twittertext.all_noStopWords.apply(word_tokenize)\n",
    "twittertext['no_hashhand_tokenText_noStop'] = twittertext.no_hashhand_noStopWords.apply(word_tokenize)"
   ]
  },
  {
   "cell_type": "code",
   "execution_count": 21,
   "metadata": {
    "scrolled": true
   },
   "outputs": [
    {
     "data": {
      "text/plain": [
       "(70969, 22)"
      ]
     },
     "execution_count": 21,
     "metadata": {},
     "output_type": "execute_result"
    }
   ],
   "source": [
    "twittertext.shape"
   ]
  },
  {
   "cell_type": "code",
   "execution_count": 28,
   "metadata": {
    "scrolled": true
   },
   "outputs": [
    {
     "data": {
      "text/html": [
       "<div>\n",
       "<style scoped>\n",
       "    .dataframe tbody tr th:only-of-type {\n",
       "        vertical-align: middle;\n",
       "    }\n",
       "\n",
       "    .dataframe tbody tr th {\n",
       "        vertical-align: top;\n",
       "    }\n",
       "\n",
       "    .dataframe thead th {\n",
       "        text-align: right;\n",
       "    }\n",
       "</style>\n",
       "<table border=\"1\" class=\"dataframe\">\n",
       "  <thead>\n",
       "    <tr style=\"text-align: right;\">\n",
       "      <th></th>\n",
       "      <th>Date</th>\n",
       "      <th>UserID</th>\n",
       "      <th>UserScreenName</th>\n",
       "      <th>Text</th>\n",
       "      <th>UserLocation</th>\n",
       "      <th>UserFollowers</th>\n",
       "      <th>UserFriends</th>\n",
       "      <th>UserLanguage</th>\n",
       "      <th>RetweetUserID</th>\n",
       "      <th>Just_Date</th>\n",
       "      <th>...</th>\n",
       "      <th>twitter_handles</th>\n",
       "      <th>cleanText</th>\n",
       "      <th>no_hashhand_cleanText</th>\n",
       "      <th>all_tokenText</th>\n",
       "      <th>no_hashhand_tokenText</th>\n",
       "      <th>all_tokenCount</th>\n",
       "      <th>all_noStopWords</th>\n",
       "      <th>no_hashhand_noStopWords</th>\n",
       "      <th>all_tokenText_noStop</th>\n",
       "      <th>no_hashhand_tokenText_noStop</th>\n",
       "    </tr>\n",
       "  </thead>\n",
       "  <tbody>\n",
       "    <tr>\n",
       "      <th>0</th>\n",
       "      <td>2019-03-06 23:59:53+00:00</td>\n",
       "      <td>1,100,000,000,000,000,000.00</td>\n",
       "      <td>SevignyMel</td>\n",
       "      <td>rt @coletheblackcat: happy pancake day! #pancakeday #pancaketuesday #pancakeday2019 #coleandmarmalade</td>\n",
       "      <td>Central Florida, USA</td>\n",
       "      <td>9.00</td>\n",
       "      <td>85.00</td>\n",
       "      <td>en</td>\n",
       "      <td>1,040,000,000,000,000,000.00</td>\n",
       "      <td>2019-03-06</td>\n",
       "      <td>...</td>\n",
       "      <td>[@coletheblackcat]</td>\n",
       "      <td>2019-03-06 23:59:53+00:00</td>\n",
       "      <td>rt  happy pancake day</td>\n",
       "      <td>[rt, coletheblackcat, happy, pancake, day, pancakeday, pancaketuesday, pancakeday2019, coleandmarmalade]</td>\n",
       "      <td>4</td>\n",
       "      <td>9</td>\n",
       "      <td>coletheblackcat happy pancake day pancakeday pancaketuesday pancakeday2019 coleandmarmalade</td>\n",
       "      <td>happy pancake day</td>\n",
       "      <td>[coletheblackcat, happy, pancake, day, pancakeday, pancaketuesday, pancakeday2019, coleandmarmalade]</td>\n",
       "      <td>[happy, pancake, day]</td>\n",
       "    </tr>\n",
       "    <tr>\n",
       "      <th>1</th>\n",
       "      <td>2019-03-06 23:59:31+00:00</td>\n",
       "      <td>1,100,000,000,000,000,000.00</td>\n",
       "      <td>traceylockley</td>\n",
       "      <td>rt @missguided: happy #pancakeday babes think your pancakes are + wanna win a 100 mg voucher?1. follow, rt + like this tweet2. reply to this thread with a pic of your pancakes3. tell us why you should win using the hashtag #ratemypancakeswinner announced thursday (@sugarberrry)</td>\n",
       "      <td>Hampshire, England</td>\n",
       "      <td>114.00</td>\n",
       "      <td>716.00</td>\n",
       "      <td>en-GB</td>\n",
       "      <td>3,911,179,642.00</td>\n",
       "      <td>2019-03-06</td>\n",
       "      <td>...</td>\n",
       "      <td>[@missguided, @sugarberrry]</td>\n",
       "      <td>2019-03-06 23:59:31+00:00</td>\n",
       "      <td>rt  happy  babes think your pancakes are  wanna win a 100 mg voucher1 follow rt  like this tweet2 reply to this thread with a pic of your pancakes3 tell us why you should win using the hashtag  announced thursday</td>\n",
       "      <td>[rt, missguided, happy, pancakeday, babes, think, your, pancakes, are, wan, na, win, a, 100, mg, voucher1, follow, rt, like, this, tweet2, reply, to, this, thread, with, a, pic, of, your, pancakes3, tell, us, why, you, should, win, using, the, hashtag, ratemypancakeswinner, announced, thursday, sugarberrry]</td>\n",
       "      <td>40</td>\n",
       "      <td>44</td>\n",
       "      <td>missguided happy pancakeday babes think pancakes wanna win 100 mg voucher1 follow like tweet2 reply thread pic pancakes3 tell us win using hashtag ratemypancakeswinner announced thursday sugarberrry</td>\n",
       "      <td>happy babes think pancakes wanna win 100 mg voucher1 follow like tweet2 reply thread pic pancakes3 tell us win using hashtag announced thursday</td>\n",
       "      <td>[missguided, happy, pancakeday, babes, think, pancakes, wan, na, win, 100, mg, voucher1, follow, like, tweet2, reply, thread, pic, pancakes3, tell, us, win, using, hashtag, ratemypancakeswinner, announced, thursday, sugarberrry]</td>\n",
       "      <td>[happy, babes, think, pancakes, wan, na, win, 100, mg, voucher1, follow, like, tweet2, reply, thread, pic, pancakes3, tell, us, win, using, hashtag, announced, thursday]</td>\n",
       "    </tr>\n",
       "  </tbody>\n",
       "</table>\n",
       "<p>2 rows × 22 columns</p>\n",
       "</div>"
      ],
      "text/plain": [
       "                        Date                                   UserID  \\\n",
       "0  2019-03-06 23:59:53+00:00             1,100,000,000,000,000,000.00   \n",
       "1  2019-03-06 23:59:31+00:00             1,100,000,000,000,000,000.00   \n",
       "\n",
       "  UserScreenName  \\\n",
       "0     SevignyMel   \n",
       "1  traceylockley   \n",
       "\n",
       "                                                                                                                                                                                                                                                                                      Text  \\\n",
       "0                                                                                                                                                                                   rt @coletheblackcat: happy pancake day! #pancakeday #pancaketuesday #pancakeday2019 #coleandmarmalade    \n",
       "1  rt @missguided: happy #pancakeday babes think your pancakes are + wanna win a 100 mg voucher?1. follow, rt + like this tweet2. reply to this thread with a pic of your pancakes3. tell us why you should win using the hashtag #ratemypancakeswinner announced thursday (@sugarberrry)    \n",
       "\n",
       "           UserLocation                            UserFollowers  \\\n",
       "0  Central Florida, USA                                     9.00   \n",
       "1    Hampshire, England                                   114.00   \n",
       "\n",
       "                               UserFriends UserLanguage  \\\n",
       "0                                    85.00           en   \n",
       "1                                   716.00        en-GB   \n",
       "\n",
       "                             RetweetUserID   Just_Date  ...  \\\n",
       "0             1,040,000,000,000,000,000.00  2019-03-06  ...   \n",
       "1                         3,911,179,642.00  2019-03-06  ...   \n",
       "\n",
       "               twitter_handles                  cleanText  \\\n",
       "0           [@coletheblackcat]  2019-03-06 23:59:53+00:00   \n",
       "1  [@missguided, @sugarberrry]  2019-03-06 23:59:31+00:00   \n",
       "\n",
       "                                                                                                                                                                                                    no_hashhand_cleanText  \\\n",
       "0                                                                                                                                                                                              rt  happy pancake day        \n",
       "1  rt  happy  babes think your pancakes are  wanna win a 100 mg voucher1 follow rt  like this tweet2 reply to this thread with a pic of your pancakes3 tell us why you should win using the hashtag  announced thursday     \n",
       "\n",
       "                                                                                                                                                                                                                                                                                                          all_tokenText  \\\n",
       "0                                                                                                                                                                                                              [rt, coletheblackcat, happy, pancake, day, pancakeday, pancaketuesday, pancakeday2019, coleandmarmalade]   \n",
       "1  [rt, missguided, happy, pancakeday, babes, think, your, pancakes, are, wan, na, win, a, 100, mg, voucher1, follow, rt, like, this, tweet2, reply, to, this, thread, with, a, pic, of, your, pancakes3, tell, us, why, you, should, win, using, the, hashtag, ratemypancakeswinner, announced, thursday, sugarberrry]   \n",
       "\n",
       "  no_hashhand_tokenText all_tokenCount  \\\n",
       "0                     4              9   \n",
       "1                    40             44   \n",
       "\n",
       "                                                                                                                                                                                          all_noStopWords  \\\n",
       "0                                                                                                             coletheblackcat happy pancake day pancakeday pancaketuesday pancakeday2019 coleandmarmalade   \n",
       "1  missguided happy pancakeday babes think pancakes wanna win 100 mg voucher1 follow like tweet2 reply thread pic pancakes3 tell us win using hashtag ratemypancakeswinner announced thursday sugarberrry   \n",
       "\n",
       "                                                                                                                           no_hashhand_noStopWords  \\\n",
       "0                                                                                                                                happy pancake day   \n",
       "1  happy babes think pancakes wanna win 100 mg voucher1 follow like tweet2 reply thread pic pancakes3 tell us win using hashtag announced thursday   \n",
       "\n",
       "                                                                                                                                                                                                                   all_tokenText_noStop  \\\n",
       "0                                                                                                                                  [coletheblackcat, happy, pancake, day, pancakeday, pancaketuesday, pancakeday2019, coleandmarmalade]   \n",
       "1  [missguided, happy, pancakeday, babes, think, pancakes, wan, na, win, 100, mg, voucher1, follow, like, tweet2, reply, thread, pic, pancakes3, tell, us, win, using, hashtag, ratemypancakeswinner, announced, thursday, sugarberrry]   \n",
       "\n",
       "                                                                                                                                                no_hashhand_tokenText_noStop  \n",
       "0                                                                                                                                                      [happy, pancake, day]  \n",
       "1  [happy, babes, think, pancakes, wan, na, win, 100, mg, voucher1, follow, like, tweet2, reply, thread, pic, pancakes3, tell, us, win, using, hashtag, announced, thursday]  \n",
       "\n",
       "[2 rows x 22 columns]"
      ]
     },
     "execution_count": 28,
     "metadata": {},
     "output_type": "execute_result"
    }
   ],
   "source": [
    "twittertext.head(2)"
   ]
  },
  {
   "cell_type": "markdown",
   "metadata": {},
   "source": [
    "We know that many of the tweets are retweeted! So, let's remove the duplicates from the tweets based on the Text cleaning we have just made! We will use the colum 'no_hashhand_tokenText_noStop' for that! "
   ]
  },
  {
   "cell_type": "code",
   "execution_count": 36,
   "metadata": {},
   "outputs": [],
   "source": [
    "#Delete the duplicates of the tweets!\n",
    "twittertext = twittertext.drop_duplicates('no_hashhand_noStopWords')"
   ]
  },
  {
   "cell_type": "code",
   "execution_count": 37,
   "metadata": {},
   "outputs": [
    {
     "data": {
      "text/plain": [
       "(23019, 22)"
      ]
     },
     "execution_count": 37,
     "metadata": {},
     "output_type": "execute_result"
    }
   ],
   "source": [
    "twittertext.shape"
   ]
  },
  {
   "cell_type": "code",
   "execution_count": 38,
   "metadata": {
    "scrolled": true
   },
   "outputs": [
    {
     "name": "stdout",
     "output_type": "stream",
     "text": [
      "The total number of non duplicated tweets for words analysis is 23019.\n"
     ]
    }
   ],
   "source": [
    "total_tweets = len(twittertext)\n",
    "print(\"The total number of non duplicated tweets for words analysis is \" + str(total_tweets) + \".\")"
   ]
  },
  {
   "cell_type": "code",
   "execution_count": null,
   "metadata": {},
   "outputs": [],
   "source": [
    "# Save the non duplicated tweets in a csv file!\n",
    "#twittertext.to_csv('Clean_Tweets.csv')\n",
    "#twittertext = pd.read_csv('Clean_Tweets.csv')"
   ]
  },
  {
   "cell_type": "markdown",
   "metadata": {},
   "source": [
    "### Understand Most Words in Tweets! "
   ]
  },
  {
   "cell_type": "markdown",
   "metadata": {},
   "source": [
    "### Counts Words"
   ]
  },
  {
   "cell_type": "code",
   "execution_count": 39,
   "metadata": {},
   "outputs": [],
   "source": [
    "# Take all the tokens (separated words) and append them in a list\n",
    "# We have a giant list of all words that have been writen in the tweets\n",
    "# Other Explaination: Flatten 'no_hashhand_tokenText_noStop' into one list\n",
    "\n",
    "tokens = []\n",
    "\n",
    "for sublist in twittertext.no_hashhand_tokenText_noStop:\n",
    "    for word in sublist:\n",
    "        tokens.append(word)"
   ]
  },
  {
   "cell_type": "code",
   "execution_count": 40,
   "metadata": {},
   "outputs": [
    {
     "name": "stdout",
     "output_type": "stream",
     "text": [
      "The total number of words for all the tweets is 216248.\n"
     ]
    }
   ],
   "source": [
    "# Calculate the length of the list / number of entries!\n",
    "nb_tokens = len(tokens)\n",
    "print(\"The total number of words for all the tweets is \" + str(nb_tokens) + \".\")"
   ]
  },
  {
   "cell_type": "markdown",
   "metadata": {},
   "source": [
    "Here pancake and pancakes are two different words! As their meaning is the same, we will just change all words pancakes to pancake! "
   ]
  },
  {
   "cell_type": "code",
   "execution_count": 41,
   "metadata": {},
   "outputs": [],
   "source": [
    "# Turn the list into a dataframe -> easier to deal with!\n",
    "tokens_df = pd.DataFrame(tokens)\n",
    "# Give a name to the column of the dataframe\n",
    "tokens_df.columns = ['words']\n",
    "\n",
    "rename_words = {'pancakes':'pancake'}\n",
    "tokens_df['words'] = tokens_df['words'].replace(rename_words)"
   ]
  },
  {
   "cell_type": "code",
   "execution_count": 42,
   "metadata": {},
   "outputs": [],
   "source": [
    "# Calculate the number of time a word appear in the tweets \n",
    "tokens_df['count'] = tokens_df.groupby('words')['words'].transform('count')"
   ]
  },
  {
   "cell_type": "code",
   "execution_count": 43,
   "metadata": {},
   "outputs": [],
   "source": [
    "# Order the dataframe with the highest number of words at the top. \n",
    "tokens_df = tokens_df.sort_values(by=['count'], ascending=False)\n",
    "# Drop the duplicates of the words! Show only the top ten first world!\n",
    "tokens_df = tokens_df.drop_duplicates(['words'], keep='first')"
   ]
  },
  {
   "cell_type": "markdown",
   "metadata": {},
   "source": [
    "Here we will calculate the frequency of the words and not only the count! I assume in this calculation that each words appears only once in each tweet. In other words, when writting a tweet, a Twitter user will never use two times the same words! This is not 100% true, but it gives an approximation!\n",
    "Ps: I will have to look at a better way to do that! Any comments or thoughts, would be appreciated! "
   ]
  },
  {
   "cell_type": "code",
   "execution_count": 44,
   "metadata": {
    "scrolled": false
   },
   "outputs": [],
   "source": [
    "# Add the frequency of occurance of the words!\n",
    "tokens_df['frequency_totwords'] = (tokens_df['count']/nb_tokens)*100\n",
    "tokens_df['frequency_tottweets'] = (tokens_df['count']/total_tweets)*100"
   ]
  },
  {
   "cell_type": "code",
   "execution_count": 45,
   "metadata": {
    "scrolled": false
   },
   "outputs": [
    {
     "data": {
      "text/html": [
       "<div>\n",
       "<style scoped>\n",
       "    .dataframe tbody tr th:only-of-type {\n",
       "        vertical-align: middle;\n",
       "    }\n",
       "\n",
       "    .dataframe tbody tr th {\n",
       "        vertical-align: top;\n",
       "    }\n",
       "\n",
       "    .dataframe thead th {\n",
       "        text-align: right;\n",
       "    }\n",
       "</style>\n",
       "<table border=\"1\" class=\"dataframe\">\n",
       "  <thead>\n",
       "    <tr style=\"text-align: right;\">\n",
       "      <th></th>\n",
       "      <th>words</th>\n",
       "      <th>count</th>\n",
       "      <th>frequency_totwords</th>\n",
       "      <th>frequency_tottweets</th>\n",
       "    </tr>\n",
       "  </thead>\n",
       "  <tbody>\n",
       "    <tr>\n",
       "      <th>66305</th>\n",
       "      <td>pancake</td>\n",
       "      <td>15446</td>\n",
       "      <td>7.14</td>\n",
       "      <td>67.10</td>\n",
       "    </tr>\n",
       "    <tr>\n",
       "      <th>174326</th>\n",
       "      <td>day</td>\n",
       "      <td>5400</td>\n",
       "      <td>2.50</td>\n",
       "      <td>23.46</td>\n",
       "    </tr>\n",
       "    <tr>\n",
       "      <th>69904</th>\n",
       "      <td>happy</td>\n",
       "      <td>3655</td>\n",
       "      <td>1.69</td>\n",
       "      <td>15.88</td>\n",
       "    </tr>\n",
       "    <tr>\n",
       "      <th>128064</th>\n",
       "      <td>today</td>\n",
       "      <td>2691</td>\n",
       "      <td>1.24</td>\n",
       "      <td>11.69</td>\n",
       "    </tr>\n",
       "    <tr>\n",
       "      <th>170040</th>\n",
       "      <td>us</td>\n",
       "      <td>1490</td>\n",
       "      <td>0.69</td>\n",
       "      <td>6.47</td>\n",
       "    </tr>\n",
       "    <tr>\n",
       "      <th>170499</th>\n",
       "      <td>make</td>\n",
       "      <td>1263</td>\n",
       "      <td>0.58</td>\n",
       "      <td>5.49</td>\n",
       "    </tr>\n",
       "    <tr>\n",
       "      <th>207901</th>\n",
       "      <td>tuesday</td>\n",
       "      <td>1251</td>\n",
       "      <td>0.58</td>\n",
       "      <td>5.43</td>\n",
       "    </tr>\n",
       "    <tr>\n",
       "      <th>31648</th>\n",
       "      <td>like</td>\n",
       "      <td>1148</td>\n",
       "      <td>0.53</td>\n",
       "      <td>4.99</td>\n",
       "    </tr>\n",
       "    <tr>\n",
       "      <th>177001</th>\n",
       "      <td>one</td>\n",
       "      <td>1140</td>\n",
       "      <td>0.53</td>\n",
       "      <td>4.95</td>\n",
       "    </tr>\n",
       "    <tr>\n",
       "      <th>139107</th>\n",
       "      <td>get</td>\n",
       "      <td>1092</td>\n",
       "      <td>0.50</td>\n",
       "      <td>4.74</td>\n",
       "    </tr>\n",
       "    <tr>\n",
       "      <th>77832</th>\n",
       "      <td>recipe</td>\n",
       "      <td>1038</td>\n",
       "      <td>0.48</td>\n",
       "      <td>4.51</td>\n",
       "    </tr>\n",
       "    <tr>\n",
       "      <th>197922</th>\n",
       "      <td>tomorrow</td>\n",
       "      <td>1026</td>\n",
       "      <td>0.47</td>\n",
       "      <td>4.46</td>\n",
       "    </tr>\n",
       "    <tr>\n",
       "      <th>179949</th>\n",
       "      <td>favourite</td>\n",
       "      <td>1024</td>\n",
       "      <td>0.47</td>\n",
       "      <td>4.45</td>\n",
       "    </tr>\n",
       "    <tr>\n",
       "      <th>195276</th>\n",
       "      <td>lemon</td>\n",
       "      <td>990</td>\n",
       "      <td>0.46</td>\n",
       "      <td>4.30</td>\n",
       "    </tr>\n",
       "    <tr>\n",
       "      <th>57530</th>\n",
       "      <td>flipping</td>\n",
       "      <td>956</td>\n",
       "      <td>0.44</td>\n",
       "      <td>4.15</td>\n",
       "    </tr>\n",
       "    <tr>\n",
       "      <th>72303</th>\n",
       "      <td>sugar</td>\n",
       "      <td>937</td>\n",
       "      <td>0.43</td>\n",
       "      <td>4.07</td>\n",
       "    </tr>\n",
       "    <tr>\n",
       "      <th>165136</th>\n",
       "      <td>delicious</td>\n",
       "      <td>903</td>\n",
       "      <td>0.42</td>\n",
       "      <td>3.92</td>\n",
       "    </tr>\n",
       "    <tr>\n",
       "      <th>163655</th>\n",
       "      <td>everyone</td>\n",
       "      <td>898</td>\n",
       "      <td>0.42</td>\n",
       "      <td>3.90</td>\n",
       "    </tr>\n",
       "    <tr>\n",
       "      <th>147946</th>\n",
       "      <td>year</td>\n",
       "      <td>896</td>\n",
       "      <td>0.41</td>\n",
       "      <td>3.89</td>\n",
       "    </tr>\n",
       "    <tr>\n",
       "      <th>80399</th>\n",
       "      <td>topping</td>\n",
       "      <td>872</td>\n",
       "      <td>0.40</td>\n",
       "      <td>3.79</td>\n",
       "    </tr>\n",
       "  </tbody>\n",
       "</table>\n",
       "</div>"
      ],
      "text/plain": [
       "            words  count                       frequency_totwords  \\\n",
       "66305     pancake  15446                                     7.14   \n",
       "174326        day   5400                                     2.50   \n",
       "69904       happy   3655                                     1.69   \n",
       "128064      today   2691                                     1.24   \n",
       "170040         us   1490                                     0.69   \n",
       "170499       make   1263                                     0.58   \n",
       "207901    tuesday   1251                                     0.58   \n",
       "31648        like   1148                                     0.53   \n",
       "177001        one   1140                                     0.53   \n",
       "139107        get   1092                                     0.50   \n",
       "77832      recipe   1038                                     0.48   \n",
       "197922   tomorrow   1026                                     0.47   \n",
       "179949  favourite   1024                                     0.47   \n",
       "195276      lemon    990                                     0.46   \n",
       "57530    flipping    956                                     0.44   \n",
       "72303       sugar    937                                     0.43   \n",
       "165136  delicious    903                                     0.42   \n",
       "163655   everyone    898                                     0.42   \n",
       "147946       year    896                                     0.41   \n",
       "80399     topping    872                                     0.40   \n",
       "\n",
       "                            frequency_tottweets  \n",
       "66305                                     67.10  \n",
       "174326                                    23.46  \n",
       "69904                                     15.88  \n",
       "128064                                    11.69  \n",
       "170040                                     6.47  \n",
       "170499                                     5.49  \n",
       "207901                                     5.43  \n",
       "31648                                      4.99  \n",
       "177001                                     4.95  \n",
       "139107                                     4.74  \n",
       "77832                                      4.51  \n",
       "197922                                     4.46  \n",
       "179949                                     4.45  \n",
       "195276                                     4.30  \n",
       "57530                                      4.15  \n",
       "72303                                      4.07  \n",
       "165136                                     3.92  \n",
       "163655                                     3.90  \n",
       "147946                                     3.89  \n",
       "80399                                      3.79  "
      ]
     },
     "execution_count": 45,
     "metadata": {},
     "output_type": "execute_result"
    }
   ],
   "source": [
    "# Print the 20 most frequent words!\n",
    "tokens_df.head(20)"
   ]
  },
  {
   "cell_type": "code",
   "execution_count": 46,
   "metadata": {
    "scrolled": false
   },
   "outputs": [
    {
     "data": {
      "application/vnd.plotly.v1+json": {
       "config": {
        "linkText": "Export to plot.ly",
        "plotlyServerURL": "https://plot.ly",
        "showLink": false
       },
       "data": [
        {
         "orientation": "h",
         "type": "bar",
         "uid": "345bb457-cc8f-4570-bb7f-a35a8d660da4",
         "x": [
          67.10109040357966,
          23.458881793301188,
          15.878187584169599,
          11.690342760328425,
          6.472913680003475,
          5.4867717972109995,
          5.434640948781441,
          4.987184499761066,
          4.952430600808029,
          4.743907207089795
         ],
         "y": [
          "pancake",
          "day",
          "happy",
          "today",
          "us",
          "make",
          "tuesday",
          "like",
          "one",
          "get"
         ]
        }
       ],
       "layout": {
        "margin": {
         "pad": 10
        },
        "title": {
         "text": "Top 10 most famous words"
        },
        "width": 400,
        "xaxis": {
         "title": {
          "text": "Frequency of each word (%)"
         }
        },
        "yaxis": {
         "automargin": true,
         "autorange": "reversed",
         "title": {
          "text": "Words"
         }
        }
       }
      },
      "text/html": [
       "<div id=\"f6e8fbe4-4928-4e26-bc14-b3607274dd2a\" style=\"height: 525px; width: 400px;\" class=\"plotly-graph-div\"></div><script type=\"text/javascript\">require([\"plotly\"], function(Plotly) { window.PLOTLYENV=window.PLOTLYENV || {};window.PLOTLYENV.BASE_URL=\"https://plot.ly\";Plotly.newPlot(\"f6e8fbe4-4928-4e26-bc14-b3607274dd2a\", [{\"orientation\": \"h\", \"x\": [67.10109040357966, 23.458881793301188, 15.878187584169599, 11.690342760328425, 6.472913680003475, 5.4867717972109995, 5.434640948781441, 4.987184499761066, 4.952430600808029, 4.743907207089795], \"y\": [\"pancake\", \"day\", \"happy\", \"today\", \"us\", \"make\", \"tuesday\", \"like\", \"one\", \"get\"], \"type\": \"bar\", \"uid\": \"345bb457-cc8f-4570-bb7f-a35a8d660da4\"}], {\"margin\": {\"pad\": 10}, \"title\": {\"text\": \"Top 10 most famous words\"}, \"width\": 400, \"xaxis\": {\"title\": {\"text\": \"Frequency of each word (%)\"}}, \"yaxis\": {\"automargin\": true, \"autorange\": \"reversed\", \"title\": {\"text\": \"Words\"}}}, {\"showLink\": false, \"linkText\": \"Export to plot.ly\", \"plotlyServerURL\": \"https://plot.ly\"})});</script>"
      ],
      "text/vnd.plotly.v1+html": [
       "<div id=\"f6e8fbe4-4928-4e26-bc14-b3607274dd2a\" style=\"height: 525px; width: 400px;\" class=\"plotly-graph-div\"></div><script type=\"text/javascript\">require([\"plotly\"], function(Plotly) { window.PLOTLYENV=window.PLOTLYENV || {};window.PLOTLYENV.BASE_URL=\"https://plot.ly\";Plotly.newPlot(\"f6e8fbe4-4928-4e26-bc14-b3607274dd2a\", [{\"orientation\": \"h\", \"x\": [67.10109040357966, 23.458881793301188, 15.878187584169599, 11.690342760328425, 6.472913680003475, 5.4867717972109995, 5.434640948781441, 4.987184499761066, 4.952430600808029, 4.743907207089795], \"y\": [\"pancake\", \"day\", \"happy\", \"today\", \"us\", \"make\", \"tuesday\", \"like\", \"one\", \"get\"], \"type\": \"bar\", \"uid\": \"345bb457-cc8f-4570-bb7f-a35a8d660da4\"}], {\"margin\": {\"pad\": 10}, \"title\": {\"text\": \"Top 10 most famous words\"}, \"width\": 400, \"xaxis\": {\"title\": {\"text\": \"Frequency of each word (%)\"}}, \"yaxis\": {\"automargin\": true, \"autorange\": \"reversed\", \"title\": {\"text\": \"Words\"}}}, {\"showLink\": false, \"linkText\": \"Export to plot.ly\", \"plotlyServerURL\": \"https://plot.ly\"})});</script>"
      ]
     },
     "metadata": {},
     "output_type": "display_data"
    }
   ],
   "source": [
    "data = [Bar(\n",
    "        y=tokens_df['words'][0:10], # assign x as the dataframe column 'x'\n",
    "        x=tokens_df['frequency_tottweets'][0:10], \n",
    "        orientation = 'h',\n",
    ")]\n",
    "\n",
    "layout = Layout(\n",
    "    title=\"Top 10 most famous words\",\n",
    "    xaxis=dict(title='Frequency of each word (%)'),\n",
    "    yaxis=dict(title='Words', automargin = True, autorange='reversed'),\n",
    "    margin=dict(pad=10), \n",
    "    width=400\n",
    ")\n",
    "\n",
    "fig = Figure(data=data, layout=layout)\n",
    "\n",
    "iplot(fig)"
   ]
  },
  {
   "cell_type": "code",
   "execution_count": null,
   "metadata": {},
   "outputs": [],
   "source": [
    "data = [Bar(\n",
    "        y=tokens_df['words'][0:10], # assign x as the dataframe column 'x'\n",
    "        x=tokens_df['count'][0:10], \n",
    "        orientation = 'h',\n",
    ")]\n",
    "\n",
    "layout = Layout(\n",
    "    title=\"Top 10 most famous words\",\n",
    "    xaxis=dict(title='Count number of each word in the tweets'),\n",
    "    yaxis=dict(title='Words', automargin = True, autorange='reversed'),\n",
    "    margin=dict(pad=10), \n",
    "    width=400\n",
    ")\n",
    "\n",
    "fig = Figure(data=data, layout=layout)\n",
    "\n",
    "iplot(fig)"
   ]
  },
  {
   "cell_type": "code",
   "execution_count": null,
   "metadata": {},
   "outputs": [],
   "source": [
    "# For the further analysis, selection only the first 30 most common words!\n",
    "word_count = words_df[0:30]"
   ]
  },
  {
   "cell_type": "markdown",
   "metadata": {},
   "source": [
    "### Hastags"
   ]
  },
  {
   "cell_type": "code",
   "execution_count": 47,
   "metadata": {},
   "outputs": [],
   "source": [
    "# Repeat the same steps for the hashtags! \n",
    "hashtags = []\n",
    "\n",
    "for sublist in twittertext.hashtags:\n",
    "    for word in sublist:\n",
    "        hashtags.append(word)"
   ]
  },
  {
   "cell_type": "code",
   "execution_count": 48,
   "metadata": {},
   "outputs": [
    {
     "name": "stdout",
     "output_type": "stream",
     "text": [
      "Total number of hashtags is 66591.\n"
     ]
    }
   ],
   "source": [
    "# Calculate the length of the list / number of entries! (! This is with duplicate entries)\n",
    "nb_hashtags = len(hashtags)\n",
    "print(\"Total number of hashtags is \" + str(nb_hashtags) + \".\")"
   ]
  },
  {
   "cell_type": "code",
   "execution_count": 49,
   "metadata": {},
   "outputs": [],
   "source": [
    "# Transform the list of hastags into a dataframe\n",
    "hashtags_df = pd.DataFrame(hashtags)\n",
    "# Rename the columns of the dataframe\n",
    "hashtags_df.columns = ['hashtags']"
   ]
  },
  {
   "cell_type": "code",
   "execution_count": 50,
   "metadata": {},
   "outputs": [],
   "source": [
    "# Remove the specific punctuation (!?,.) \n",
    "hashtags_df['hashtags'] = hashtags_df.hashtags.str.replace('[!,?.\\s]','')\n",
    "\n",
    "#Rename the hashtags that are similar (#pancakes and #pancake!)\n",
    "rename_hashtags = {'#pancakes':'#pancake'}\n",
    "hashtags_df['hashtags'] = hashtags_df['hashtags'].replace(rename_hashtags)"
   ]
  },
  {
   "cell_type": "code",
   "execution_count": 51,
   "metadata": {},
   "outputs": [],
   "source": [
    "# Calculate the number of time a hashtag appear in the tweets\n",
    "hashtags_df['count'] = hashtags_df.groupby('hashtags')['hashtags'].transform('count')"
   ]
  },
  {
   "cell_type": "code",
   "execution_count": 52,
   "metadata": {},
   "outputs": [],
   "source": [
    "# Order the dataframe with the highest number of words at the top. \n",
    "hashtags_df = hashtags_df.sort_values(by=['count'], ascending=False)\n",
    "# Drop the duplicates of the words! Show only the top ten first world!\n",
    "hashtags_df = hashtags_df.drop_duplicates(['hashtags'], keep='first')"
   ]
  },
  {
   "cell_type": "code",
   "execution_count": 53,
   "metadata": {
    "scrolled": false
   },
   "outputs": [
    {
     "name": "stdout",
     "output_type": "stream",
     "text": [
      "Total number of single hashtags is 14897.\n"
     ]
    }
   ],
   "source": [
    "noduplicate_hashtags = len(hashtags_df)\n",
    "print(\"Total number of single hashtags is \" + str(noduplicate_hashtags) + \".\")"
   ]
  },
  {
   "cell_type": "markdown",
   "metadata": {},
   "source": [
    "Here again, we will calculate the frequency of the hashtags and not only the count! I assume in this calculation that each hashtags appears only once. In other words, when writting a tweets, a Twitter user will never use two times the same hashtag! "
   ]
  },
  {
   "cell_type": "code",
   "execution_count": 54,
   "metadata": {},
   "outputs": [],
   "source": [
    "# Add the frequency of occurance of the words!\n",
    "hashtags_df['frequency_tottweets'] = (hashtags_df['count']/total_tweets)*100\n",
    "hashtags_df['frequency_tothashtags'] = (hashtags_df['count']/nb_hashtags)*100"
   ]
  },
  {
   "cell_type": "code",
   "execution_count": 55,
   "metadata": {
    "scrolled": false
   },
   "outputs": [
    {
     "data": {
      "text/html": [
       "<div>\n",
       "<style scoped>\n",
       "    .dataframe tbody tr th:only-of-type {\n",
       "        vertical-align: middle;\n",
       "    }\n",
       "\n",
       "    .dataframe tbody tr th {\n",
       "        vertical-align: top;\n",
       "    }\n",
       "\n",
       "    .dataframe thead th {\n",
       "        text-align: right;\n",
       "    }\n",
       "</style>\n",
       "<table border=\"1\" class=\"dataframe\">\n",
       "  <thead>\n",
       "    <tr style=\"text-align: right;\">\n",
       "      <th></th>\n",
       "      <th>hashtags</th>\n",
       "      <th>count</th>\n",
       "      <th>frequency_tottweets</th>\n",
       "      <th>frequency_tothashtags</th>\n",
       "    </tr>\n",
       "  </thead>\n",
       "  <tbody>\n",
       "    <tr>\n",
       "      <th>0</th>\n",
       "      <td>#pancakeday</td>\n",
       "      <td>22514</td>\n",
       "      <td>97.81</td>\n",
       "      <td>33.81</td>\n",
       "    </tr>\n",
       "    <tr>\n",
       "      <th>43948</th>\n",
       "      <td>#shrovetuesday</td>\n",
       "      <td>5100</td>\n",
       "      <td>22.16</td>\n",
       "      <td>7.66</td>\n",
       "    </tr>\n",
       "    <tr>\n",
       "      <th>36837</th>\n",
       "      <td>#pancake</td>\n",
       "      <td>3614</td>\n",
       "      <td>15.70</td>\n",
       "      <td>5.43</td>\n",
       "    </tr>\n",
       "    <tr>\n",
       "      <th>49681</th>\n",
       "      <td>#pancaketuesday</td>\n",
       "      <td>2170</td>\n",
       "      <td>9.43</td>\n",
       "      <td>3.26</td>\n",
       "    </tr>\n",
       "    <tr>\n",
       "      <th>18327</th>\n",
       "      <td>#pancakeday2019</td>\n",
       "      <td>591</td>\n",
       "      <td>2.57</td>\n",
       "      <td>0.89</td>\n",
       "    </tr>\n",
       "    <tr>\n",
       "      <th>44224</th>\n",
       "      <td>#tuesdaythoughts</td>\n",
       "      <td>409</td>\n",
       "      <td>1.78</td>\n",
       "      <td>0.61</td>\n",
       "    </tr>\n",
       "    <tr>\n",
       "      <th>24892</th>\n",
       "      <td>#fattuesday</td>\n",
       "      <td>395</td>\n",
       "      <td>1.72</td>\n",
       "      <td>0.59</td>\n",
       "    </tr>\n",
       "    <tr>\n",
       "      <th>53232</th>\n",
       "      <td>#mardigras</td>\n",
       "      <td>319</td>\n",
       "      <td>1.39</td>\n",
       "      <td>0.48</td>\n",
       "    </tr>\n",
       "    <tr>\n",
       "      <th>49562</th>\n",
       "      <td>#food</td>\n",
       "      <td>290</td>\n",
       "      <td>1.26</td>\n",
       "      <td>0.44</td>\n",
       "    </tr>\n",
       "    <tr>\n",
       "      <th>45118</th>\n",
       "      <td>#vegan</td>\n",
       "      <td>286</td>\n",
       "      <td>1.24</td>\n",
       "      <td>0.43</td>\n",
       "    </tr>\n",
       "    <tr>\n",
       "      <th>4866</th>\n",
       "      <td>#tuesdaymotivation</td>\n",
       "      <td>240</td>\n",
       "      <td>1.04</td>\n",
       "      <td>0.36</td>\n",
       "    </tr>\n",
       "    <tr>\n",
       "      <th>65502</th>\n",
       "      <td>#lent</td>\n",
       "      <td>211</td>\n",
       "      <td>0.92</td>\n",
       "      <td>0.32</td>\n",
       "    </tr>\n",
       "    <tr>\n",
       "      <th>17607</th>\n",
       "      <td>#nutella</td>\n",
       "      <td>186</td>\n",
       "      <td>0.81</td>\n",
       "      <td>0.28</td>\n",
       "    </tr>\n",
       "    <tr>\n",
       "      <th>32473</th>\n",
       "      <td>#foodie</td>\n",
       "      <td>184</td>\n",
       "      <td>0.80</td>\n",
       "      <td>0.28</td>\n",
       "    </tr>\n",
       "    <tr>\n",
       "      <th>18386</th>\n",
       "      <td>#yummy</td>\n",
       "      <td>170</td>\n",
       "      <td>0.74</td>\n",
       "      <td>0.26</td>\n",
       "    </tr>\n",
       "    <tr>\n",
       "      <th>11211</th>\n",
       "      <td>#glutenfree</td>\n",
       "      <td>157</td>\n",
       "      <td>0.68</td>\n",
       "      <td>0.24</td>\n",
       "    </tr>\n",
       "    <tr>\n",
       "      <th>64159</th>\n",
       "      <td>#recipe</td>\n",
       "      <td>143</td>\n",
       "      <td>0.62</td>\n",
       "      <td>0.21</td>\n",
       "    </tr>\n",
       "    <tr>\n",
       "      <th>42071</th>\n",
       "      <td>#yum</td>\n",
       "      <td>143</td>\n",
       "      <td>0.62</td>\n",
       "      <td>0.21</td>\n",
       "    </tr>\n",
       "    <tr>\n",
       "      <th>49067</th>\n",
       "      <td>#breakfast</td>\n",
       "      <td>138</td>\n",
       "      <td>0.60</td>\n",
       "      <td>0.21</td>\n",
       "    </tr>\n",
       "    <tr>\n",
       "      <th>36986</th>\n",
       "      <td>#london</td>\n",
       "      <td>128</td>\n",
       "      <td>0.56</td>\n",
       "      <td>0.19</td>\n",
       "    </tr>\n",
       "  </tbody>\n",
       "</table>\n",
       "</div>"
      ],
      "text/plain": [
       "                 hashtags  count                      frequency_tottweets  \\\n",
       "0             #pancakeday  22514                                    97.81   \n",
       "43948      #shrovetuesday   5100                                    22.16   \n",
       "36837            #pancake   3614                                    15.70   \n",
       "49681     #pancaketuesday   2170                                     9.43   \n",
       "18327     #pancakeday2019    591                                     2.57   \n",
       "44224    #tuesdaythoughts    409                                     1.78   \n",
       "24892         #fattuesday    395                                     1.72   \n",
       "53232          #mardigras    319                                     1.39   \n",
       "49562               #food    290                                     1.26   \n",
       "45118              #vegan    286                                     1.24   \n",
       "4866   #tuesdaymotivation    240                                     1.04   \n",
       "65502               #lent    211                                     0.92   \n",
       "17607            #nutella    186                                     0.81   \n",
       "32473             #foodie    184                                     0.80   \n",
       "18386              #yummy    170                                     0.74   \n",
       "11211         #glutenfree    157                                     0.68   \n",
       "64159             #recipe    143                                     0.62   \n",
       "42071                #yum    143                                     0.62   \n",
       "49067          #breakfast    138                                     0.60   \n",
       "36986             #london    128                                     0.56   \n",
       "\n",
       "                         frequency_tothashtags  \n",
       "0                                        33.81  \n",
       "43948                                     7.66  \n",
       "36837                                     5.43  \n",
       "49681                                     3.26  \n",
       "18327                                     0.89  \n",
       "44224                                     0.61  \n",
       "24892                                     0.59  \n",
       "53232                                     0.48  \n",
       "49562                                     0.44  \n",
       "45118                                     0.43  \n",
       "4866                                      0.36  \n",
       "65502                                     0.32  \n",
       "17607                                     0.28  \n",
       "32473                                     0.28  \n",
       "18386                                     0.26  \n",
       "11211                                     0.24  \n",
       "64159                                     0.21  \n",
       "42071                                     0.21  \n",
       "49067                                     0.21  \n",
       "36986                                     0.19  "
      ]
     },
     "execution_count": 55,
     "metadata": {},
     "output_type": "execute_result"
    }
   ],
   "source": [
    "# Print the 20 most frequent words!\n",
    "hashtags_df.head(20)"
   ]
  },
  {
   "cell_type": "code",
   "execution_count": 56,
   "metadata": {
    "scrolled": true
   },
   "outputs": [
    {
     "data": {
      "application/vnd.plotly.v1+json": {
       "config": {
        "linkText": "Export to plot.ly",
        "plotlyServerURL": "https://plot.ly",
        "showLink": false
       },
       "data": [
        {
         "orientation": "h",
         "type": "bar",
         "uid": "b59d2e59-3f1c-4e8c-8537-14111531ed0d",
         "x": [
          97.80616012858943,
          22.155610582562232,
          15.700073852035276,
          9.426995091011772,
          2.567444285155741,
          1.7767930839741084,
          1.7159737608062904,
          1.3858117207524219,
          1.2598288370476562,
          1.2424518875711368
         ],
         "y": [
          "#pancakeday",
          "#shrovetuesday",
          "#pancake",
          "#pancaketuesday",
          "#pancakeday2019",
          "#tuesdaythoughts",
          "#fattuesday",
          "#mardigras",
          "#food",
          "#vegan"
         ]
        }
       ],
       "layout": {
        "margin": {
         "pad": 10
        },
        "title": {
         "text": "Top 10 most famous hashtags"
        },
        "width": 500,
        "xaxis": {
         "title": {
          "text": "Frequency of each hashtag (%)"
         }
        },
        "yaxis": {
         "automargin": true,
         "autorange": "reversed",
         "title": {
          "text": "Hashtags"
         }
        }
       }
      },
      "text/html": [
       "<div id=\"5beda191-ce81-43d9-b780-5d33453aeb60\" style=\"height: 525px; width: 500px;\" class=\"plotly-graph-div\"></div><script type=\"text/javascript\">require([\"plotly\"], function(Plotly) { window.PLOTLYENV=window.PLOTLYENV || {};window.PLOTLYENV.BASE_URL=\"https://plot.ly\";Plotly.newPlot(\"5beda191-ce81-43d9-b780-5d33453aeb60\", [{\"orientation\": \"h\", \"x\": [97.80616012858943, 22.155610582562232, 15.700073852035276, 9.426995091011772, 2.567444285155741, 1.7767930839741084, 1.7159737608062904, 1.3858117207524219, 1.2598288370476562, 1.2424518875711368], \"y\": [\"#pancakeday\", \"#shrovetuesday\", \"#pancake\", \"#pancaketuesday\", \"#pancakeday2019\", \"#tuesdaythoughts\", \"#fattuesday\", \"#mardigras\", \"#food\", \"#vegan\"], \"type\": \"bar\", \"uid\": \"b59d2e59-3f1c-4e8c-8537-14111531ed0d\"}], {\"margin\": {\"pad\": 10}, \"title\": {\"text\": \"Top 10 most famous hashtags\"}, \"width\": 500, \"xaxis\": {\"title\": {\"text\": \"Frequency of each hashtag (%)\"}}, \"yaxis\": {\"automargin\": true, \"autorange\": \"reversed\", \"title\": {\"text\": \"Hashtags\"}}}, {\"showLink\": false, \"linkText\": \"Export to plot.ly\", \"plotlyServerURL\": \"https://plot.ly\"})});</script>"
      ],
      "text/vnd.plotly.v1+html": [
       "<div id=\"5beda191-ce81-43d9-b780-5d33453aeb60\" style=\"height: 525px; width: 500px;\" class=\"plotly-graph-div\"></div><script type=\"text/javascript\">require([\"plotly\"], function(Plotly) { window.PLOTLYENV=window.PLOTLYENV || {};window.PLOTLYENV.BASE_URL=\"https://plot.ly\";Plotly.newPlot(\"5beda191-ce81-43d9-b780-5d33453aeb60\", [{\"orientation\": \"h\", \"x\": [97.80616012858943, 22.155610582562232, 15.700073852035276, 9.426995091011772, 2.567444285155741, 1.7767930839741084, 1.7159737608062904, 1.3858117207524219, 1.2598288370476562, 1.2424518875711368], \"y\": [\"#pancakeday\", \"#shrovetuesday\", \"#pancake\", \"#pancaketuesday\", \"#pancakeday2019\", \"#tuesdaythoughts\", \"#fattuesday\", \"#mardigras\", \"#food\", \"#vegan\"], \"type\": \"bar\", \"uid\": \"b59d2e59-3f1c-4e8c-8537-14111531ed0d\"}], {\"margin\": {\"pad\": 10}, \"title\": {\"text\": \"Top 10 most famous hashtags\"}, \"width\": 500, \"xaxis\": {\"title\": {\"text\": \"Frequency of each hashtag (%)\"}}, \"yaxis\": {\"automargin\": true, \"autorange\": \"reversed\", \"title\": {\"text\": \"Hashtags\"}}}, {\"showLink\": false, \"linkText\": \"Export to plot.ly\", \"plotlyServerURL\": \"https://plot.ly\"})});</script>"
      ]
     },
     "metadata": {},
     "output_type": "display_data"
    }
   ],
   "source": [
    "data = [Bar(\n",
    "        y=hashtags_df['hashtags'][0:10], # assign x as the dataframe column 'x'\n",
    "        x=hashtags_df['frequency_tottweets'][0:10], \n",
    "        orientation = 'h',\n",
    ")]\n",
    "\n",
    "layout = Layout(\n",
    "    title=\"Top 10 most famous hashtags\",\n",
    "    xaxis=dict(title='Frequency of each hashtag (%)'),\n",
    "    yaxis=dict(title='Hashtags', automargin = True, autorange='reversed'),\n",
    "    margin=dict(pad=10), \n",
    "    width=500\n",
    ")\n",
    "\n",
    "fig = Figure(data=data, layout=layout)\n",
    "\n",
    "iplot(fig)"
   ]
  },
  {
   "cell_type": "code",
   "execution_count": null,
   "metadata": {},
   "outputs": [],
   "source": [
    "data = [Bar(\n",
    "        y=hashtags_df['hashtags'][0:10], # assign x as the dataframe column 'x'\n",
    "        x=hashtags_df['frequency'][0:10], \n",
    "        orientation = 'h',\n",
    ")]\n",
    "\n",
    "layout = Layout(\n",
    "    title=\"Top 10 most famous hashtags\",\n",
    "    xaxis=dict(title='Frequency of each hashtags (%)'),\n",
    "    yaxis=dict(title='Hashtags', automargin = True, autorange='reversed'),\n",
    "    margin=dict(pad=10), \n",
    "    width=500\n",
    ")\n",
    "\n",
    "fig = Figure(data=data, layout=layout)\n",
    "\n",
    "iplot(fig)"
   ]
  },
  {
   "cell_type": "markdown",
   "metadata": {},
   "source": [
    "### Word2Vec"
   ]
  },
  {
   "cell_type": "markdown",
   "metadata": {},
   "source": [
    "### NLP - Natural Language Processing"
   ]
  },
  {
   "cell_type": "markdown",
   "metadata": {},
   "source": [
    "What is Word2vec?\n",
    "- Models use to produce word embeddings (words, sentences from a vocabulary are mapped to vectors of real numbers). Algorithm created by Tomas Mikolov's team at Goggle. \n",
    "- Main Idea: Find similarity of words\n",
    "- Core Assumption: Meaning of words is affected by the words around it. \n",
    "\n",
    "Steps and Techniques for Word2Vec:\n",
    "\n",
    "I. Continuous Bag of Words (CBOW):\n",
    "- Input: Context of the neighboring words\n",
    "- Output: Target word\n",
    "- Window: Limit the number of words in each context\n",
    "\n",
    "II. Skip Gram:\n",
    "- Input: Target word\n",
    "- Output: Context of the neighboring words\n",
    "- Window: Limit the number of words in each context\n",
    "\n",
    "III. Steps:\n",
    "- Chose the techniques (CBOW or Skip Gram), this will determine how to run Word2Vec algorithm\n",
    "- Create a corpus of text (the input). Here the corpus will be the list of all clean tweets. \n",
    "- Produce a vector space: Each words of the corpus is assigned to its corresponding vector.\n",
    "- Position the words vectors such that words with common contexts are closed to one another is the space. \n",
    "\n",
    "Why is it interesting to use Word2Vec? \n",
    "- The meaning of a word is usually influenced by the other words used in the sentence! Imagine, we have two words that are closely related to one another, the words show then some similarity. Here, we could think about the words \"vegan\" and \"plant-based\", both used to describe food that does not come from any animals.\n",
    "- How to know which words present similarity? How to find words that are closely related to each other? How to find the categories of these words automatically?\n",
    "\n",
    "Word2Vec Model:\n",
    "- Center word: Word which chose to focus on\n",
    "- Context words: Words around the center word\n",
    "- Size: Dimensionality of the vector. Higher the size, denser the embeddings.\n",
    "- Window: Define the number of context word\n",
    "- Min-count: Threshold value, word with frequency below min-count are dropped before training occurs, they wont be included into the model.\n",
    "- Workers: Used for parallelization"
   ]
  },
  {
   "cell_type": "markdown",
   "metadata": {},
   "source": [
    "#### Specific comments on this analysis!\n",
    "What is the purpose of using Word2Vec? \n",
    "- Core Objectif: Understand the context of specific word. What do twitters associated with words such as 'veganuary', 'veganism' or 'plantbased'. \n",
    "- Method: Skip-Gram - Prediction of the context given a word\n",
    "- Note: Training of our own word vectors"
   ]
  },
  {
   "cell_type": "markdown",
   "metadata": {},
   "source": [
    "### Where to find useful tutorials?\n",
    "\n",
    "- Word2vec Tutorial: https://rare-technologies.com/word2vec-tutorial/\n",
    "- Medium Article - Good Explanation: https://medium.freecodecamp.org/how-to-get-started-with-word2vec-and-then-how-to-make-it-work-d0a2fca9dad3\n",
    "- Back to the source - Google Paper: https://arxiv.org/pdf/1301.3781.pdf\n",
    "\n",
    "- Another Word2Vec Tutorial - But this time it is in TensorFlow: https://towardsdatascience.com/learn-word2vec-by-implementing-it-in-tensorflow-45641adaf2ac"
   ]
  },
  {
   "cell_type": "code",
   "execution_count": null,
   "metadata": {},
   "outputs": [],
   "source": [
    "# Install Gensim Library pip package in the current Jupyter kernel\n",
    "#import sys\n",
    "#!{sys.executable} -m pip install --upgrade gensim"
   ]
  },
  {
   "cell_type": "code",
   "execution_count": 57,
   "metadata": {},
   "outputs": [],
   "source": [
    "# Import the train google model!\n",
    "from gensim.models import word2vec"
   ]
  },
  {
   "cell_type": "code",
   "execution_count": 58,
   "metadata": {
    "scrolled": true
   },
   "outputs": [
    {
     "data": {
      "text/html": [
       "<div>\n",
       "<style scoped>\n",
       "    .dataframe tbody tr th:only-of-type {\n",
       "        vertical-align: middle;\n",
       "    }\n",
       "\n",
       "    .dataframe tbody tr th {\n",
       "        vertical-align: top;\n",
       "    }\n",
       "\n",
       "    .dataframe thead th {\n",
       "        text-align: right;\n",
       "    }\n",
       "</style>\n",
       "<table border=\"1\" class=\"dataframe\">\n",
       "  <thead>\n",
       "    <tr style=\"text-align: right;\">\n",
       "      <th></th>\n",
       "      <th>Date</th>\n",
       "      <th>UserID</th>\n",
       "      <th>UserScreenName</th>\n",
       "      <th>Text</th>\n",
       "      <th>UserLocation</th>\n",
       "      <th>UserFollowers</th>\n",
       "      <th>UserFriends</th>\n",
       "      <th>UserLanguage</th>\n",
       "      <th>RetweetUserID</th>\n",
       "      <th>Just_Date</th>\n",
       "      <th>...</th>\n",
       "      <th>twitter_handles</th>\n",
       "      <th>cleanText</th>\n",
       "      <th>no_hashhand_cleanText</th>\n",
       "      <th>all_tokenText</th>\n",
       "      <th>no_hashhand_tokenText</th>\n",
       "      <th>all_tokenCount</th>\n",
       "      <th>all_noStopWords</th>\n",
       "      <th>no_hashhand_noStopWords</th>\n",
       "      <th>all_tokenText_noStop</th>\n",
       "      <th>no_hashhand_tokenText_noStop</th>\n",
       "    </tr>\n",
       "  </thead>\n",
       "  <tbody>\n",
       "    <tr>\n",
       "      <th>0</th>\n",
       "      <td>2019-03-06 23:59:53+00:00</td>\n",
       "      <td>1,100,000,000,000,000,000.00</td>\n",
       "      <td>SevignyMel</td>\n",
       "      <td>rt @coletheblackcat: happy pancake day! #pancakeday #pancaketuesday #pancakeday2019 #coleandmarmalade</td>\n",
       "      <td>Central Florida, USA</td>\n",
       "      <td>9.00</td>\n",
       "      <td>85.00</td>\n",
       "      <td>en</td>\n",
       "      <td>1,040,000,000,000,000,000.00</td>\n",
       "      <td>2019-03-06</td>\n",
       "      <td>...</td>\n",
       "      <td>[@coletheblackcat]</td>\n",
       "      <td>2019-03-06 23:59:53+00:00</td>\n",
       "      <td>rt  happy pancake day</td>\n",
       "      <td>[rt, coletheblackcat, happy, pancake, day, pancakeday, pancaketuesday, pancakeday2019, coleandmarmalade]</td>\n",
       "      <td>4</td>\n",
       "      <td>9</td>\n",
       "      <td>coletheblackcat happy pancake day pancakeday pancaketuesday pancakeday2019 coleandmarmalade</td>\n",
       "      <td>happy pancake day</td>\n",
       "      <td>[coletheblackcat, happy, pancake, day, pancakeday, pancaketuesday, pancakeday2019, coleandmarmalade]</td>\n",
       "      <td>[happy, pancake, day]</td>\n",
       "    </tr>\n",
       "    <tr>\n",
       "      <th>1</th>\n",
       "      <td>2019-03-06 23:59:31+00:00</td>\n",
       "      <td>1,100,000,000,000,000,000.00</td>\n",
       "      <td>traceylockley</td>\n",
       "      <td>rt @missguided: happy #pancakeday babes think your pancakes are + wanna win a 100 mg voucher?1. follow, rt + like this tweet2. reply to this thread with a pic of your pancakes3. tell us why you should win using the hashtag #ratemypancakeswinner announced thursday (@sugarberrry)</td>\n",
       "      <td>Hampshire, England</td>\n",
       "      <td>114.00</td>\n",
       "      <td>716.00</td>\n",
       "      <td>en-GB</td>\n",
       "      <td>3,911,179,642.00</td>\n",
       "      <td>2019-03-06</td>\n",
       "      <td>...</td>\n",
       "      <td>[@missguided, @sugarberrry]</td>\n",
       "      <td>2019-03-06 23:59:31+00:00</td>\n",
       "      <td>rt  happy  babes think your pancakes are  wanna win a 100 mg voucher1 follow rt  like this tweet2 reply to this thread with a pic of your pancakes3 tell us why you should win using the hashtag  announced thursday</td>\n",
       "      <td>[rt, missguided, happy, pancakeday, babes, think, your, pancakes, are, wan, na, win, a, 100, mg, voucher1, follow, rt, like, this, tweet2, reply, to, this, thread, with, a, pic, of, your, pancakes3, tell, us, why, you, should, win, using, the, hashtag, ratemypancakeswinner, announced, thursday, sugarberrry]</td>\n",
       "      <td>40</td>\n",
       "      <td>44</td>\n",
       "      <td>missguided happy pancakeday babes think pancakes wanna win 100 mg voucher1 follow like tweet2 reply thread pic pancakes3 tell us win using hashtag ratemypancakeswinner announced thursday sugarberrry</td>\n",
       "      <td>happy babes think pancakes wanna win 100 mg voucher1 follow like tweet2 reply thread pic pancakes3 tell us win using hashtag announced thursday</td>\n",
       "      <td>[missguided, happy, pancakeday, babes, think, pancakes, wan, na, win, 100, mg, voucher1, follow, like, tweet2, reply, thread, pic, pancakes3, tell, us, win, using, hashtag, ratemypancakeswinner, announced, thursday, sugarberrry]</td>\n",
       "      <td>[happy, babes, think, pancakes, wan, na, win, 100, mg, voucher1, follow, like, tweet2, reply, thread, pic, pancakes3, tell, us, win, using, hashtag, announced, thursday]</td>\n",
       "    </tr>\n",
       "  </tbody>\n",
       "</table>\n",
       "<p>2 rows × 22 columns</p>\n",
       "</div>"
      ],
      "text/plain": [
       "                        Date                                   UserID  \\\n",
       "0  2019-03-06 23:59:53+00:00             1,100,000,000,000,000,000.00   \n",
       "1  2019-03-06 23:59:31+00:00             1,100,000,000,000,000,000.00   \n",
       "\n",
       "  UserScreenName  \\\n",
       "0     SevignyMel   \n",
       "1  traceylockley   \n",
       "\n",
       "                                                                                                                                                                                                                                                                                      Text  \\\n",
       "0                                                                                                                                                                                   rt @coletheblackcat: happy pancake day! #pancakeday #pancaketuesday #pancakeday2019 #coleandmarmalade    \n",
       "1  rt @missguided: happy #pancakeday babes think your pancakes are + wanna win a 100 mg voucher?1. follow, rt + like this tweet2. reply to this thread with a pic of your pancakes3. tell us why you should win using the hashtag #ratemypancakeswinner announced thursday (@sugarberrry)    \n",
       "\n",
       "           UserLocation                            UserFollowers  \\\n",
       "0  Central Florida, USA                                     9.00   \n",
       "1    Hampshire, England                                   114.00   \n",
       "\n",
       "                               UserFriends UserLanguage  \\\n",
       "0                                    85.00           en   \n",
       "1                                   716.00        en-GB   \n",
       "\n",
       "                             RetweetUserID   Just_Date  ...  \\\n",
       "0             1,040,000,000,000,000,000.00  2019-03-06  ...   \n",
       "1                         3,911,179,642.00  2019-03-06  ...   \n",
       "\n",
       "               twitter_handles                  cleanText  \\\n",
       "0           [@coletheblackcat]  2019-03-06 23:59:53+00:00   \n",
       "1  [@missguided, @sugarberrry]  2019-03-06 23:59:31+00:00   \n",
       "\n",
       "                                                                                                                                                                                                    no_hashhand_cleanText  \\\n",
       "0                                                                                                                                                                                              rt  happy pancake day        \n",
       "1  rt  happy  babes think your pancakes are  wanna win a 100 mg voucher1 follow rt  like this tweet2 reply to this thread with a pic of your pancakes3 tell us why you should win using the hashtag  announced thursday     \n",
       "\n",
       "                                                                                                                                                                                                                                                                                                          all_tokenText  \\\n",
       "0                                                                                                                                                                                                              [rt, coletheblackcat, happy, pancake, day, pancakeday, pancaketuesday, pancakeday2019, coleandmarmalade]   \n",
       "1  [rt, missguided, happy, pancakeday, babes, think, your, pancakes, are, wan, na, win, a, 100, mg, voucher1, follow, rt, like, this, tweet2, reply, to, this, thread, with, a, pic, of, your, pancakes3, tell, us, why, you, should, win, using, the, hashtag, ratemypancakeswinner, announced, thursday, sugarberrry]   \n",
       "\n",
       "  no_hashhand_tokenText all_tokenCount  \\\n",
       "0                     4              9   \n",
       "1                    40             44   \n",
       "\n",
       "                                                                                                                                                                                          all_noStopWords  \\\n",
       "0                                                                                                             coletheblackcat happy pancake day pancakeday pancaketuesday pancakeday2019 coleandmarmalade   \n",
       "1  missguided happy pancakeday babes think pancakes wanna win 100 mg voucher1 follow like tweet2 reply thread pic pancakes3 tell us win using hashtag ratemypancakeswinner announced thursday sugarberrry   \n",
       "\n",
       "                                                                                                                           no_hashhand_noStopWords  \\\n",
       "0                                                                                                                                happy pancake day   \n",
       "1  happy babes think pancakes wanna win 100 mg voucher1 follow like tweet2 reply thread pic pancakes3 tell us win using hashtag announced thursday   \n",
       "\n",
       "                                                                                                                                                                                                                   all_tokenText_noStop  \\\n",
       "0                                                                                                                                  [coletheblackcat, happy, pancake, day, pancakeday, pancaketuesday, pancakeday2019, coleandmarmalade]   \n",
       "1  [missguided, happy, pancakeday, babes, think, pancakes, wan, na, win, 100, mg, voucher1, follow, like, tweet2, reply, thread, pic, pancakes3, tell, us, win, using, hashtag, ratemypancakeswinner, announced, thursday, sugarberrry]   \n",
       "\n",
       "                                                                                                                                                no_hashhand_tokenText_noStop  \n",
       "0                                                                                                                                                      [happy, pancake, day]  \n",
       "1  [happy, babes, think, pancakes, wan, na, win, 100, mg, voucher1, follow, like, tweet2, reply, thread, pic, pancakes3, tell, us, win, using, hashtag, announced, thursday]  \n",
       "\n",
       "[2 rows x 22 columns]"
      ]
     },
     "execution_count": 58,
     "metadata": {},
     "output_type": "execute_result"
    }
   ],
   "source": [
    "twittertext.head(2)"
   ]
  },
  {
   "cell_type": "code",
   "execution_count": 59,
   "metadata": {
    "scrolled": true
   },
   "outputs": [],
   "source": [
    "# Create a list of all the words to pass it on the Word2Vec model. \n",
    "list_nohashhand = list(twittertext['no_hashhand_tokenText_noStop'])\n",
    "list_all = list(twittertext['all_tokenText_noStop'])"
   ]
  },
  {
   "cell_type": "code",
   "execution_count": 60,
   "metadata": {
    "scrolled": false
   },
   "outputs": [
    {
     "name": "stdout",
     "output_type": "stream",
     "text": [
      "[['happy', 'pancake', 'day'], ['happy', 'babes', 'think', 'pancakes', 'wan', 'na', 'win', '100', 'mg', 'voucher1', 'follow', 'like', 'tweet2', 'reply', 'thread', 'pic', 'pancakes3', 'tell', 'us', 'win', 'using', 'hashtag', 'announced', 'thursday'], ['celebrating', 'pancakes']]\n",
      "\n",
      "[['coletheblackcat', 'happy', 'pancake', 'day', 'pancakeday', 'pancaketuesday', 'pancakeday2019', 'coleandmarmalade'], ['missguided', 'happy', 'pancakeday', 'babes', 'think', 'pancakes', 'wan', 'na', 'win', '100', 'mg', 'voucher1', 'follow', 'like', 'tweet2', 'reply', 'thread', 'pic', 'pancakes3', 'tell', 'us', 'win', 'using', 'hashtag', 'ratemypancakeswinner', 'announced', 'thursday', 'sugarberrry'], ['sesamestreet', 'celebrating', 'pancakeday', 'elmo', 'pancakes', 'tigertomato']]\n"
     ]
    }
   ],
   "source": [
    "# Have a look to understand what the structure of a list (corpus) look like!\n",
    "print(list_nohashhand[0:3])\n",
    "print()\n",
    "print(list_all[0:3])"
   ]
  },
  {
   "cell_type": "code",
   "execution_count": 61,
   "metadata": {},
   "outputs": [
    {
     "name": "stdout",
     "output_type": "stream",
     "text": [
      "23019\n",
      "23019\n"
     ]
    }
   ],
   "source": [
    "# How many tweets are part of the corpus (list of tweets)\n",
    "print(len(list_nohashhand))\n",
    "print(len(list_all))"
   ]
  },
  {
   "cell_type": "markdown",
   "metadata": {},
   "source": [
    "### Corpus without hashtags!"
   ]
  },
  {
   "cell_type": "code",
   "execution_count": 359,
   "metadata": {
    "scrolled": true
   },
   "outputs": [],
   "source": [
    "model = word2vec.Word2Vec(list_nohashhand, \n",
    "                          size=150, \n",
    "                          window=10, \n",
    "                          min_count=30, \n",
    "                          workers=10)\n",
    "#Here we will not train the model based on our list, but take the pretrained model from Gensim library!\n",
    "#model.train(list_nohashhand, total_examples=len(list_nohashhand), epochs=10)"
   ]
  },
  {
   "cell_type": "code",
   "execution_count": 360,
   "metadata": {
    "scrolled": false
   },
   "outputs": [
    {
     "data": {
      "text/plain": [
       "[('happy', 0.9228134155273438),\n",
       " ('everyone', 0.9042329788208008),\n",
       " ('office', 0.8998490571975708),\n",
       " ('day', 0.8896953463554382),\n",
       " ('enjoying', 0.8869311213493347),\n",
       " ('today', 0.8852770328521729),\n",
       " ('celebrate', 0.8731229901313782),\n",
       " ('best', 0.870305597782135),\n",
       " ('aka', 0.866796612739563),\n",
       " ('celebrating', 0.8629353046417236),\n",
       " ('whos', 0.8574542999267578),\n",
       " ('everyones', 0.8571310639381409),\n",
       " ('mardi', 0.856901228427887),\n",
       " ('comments', 0.8537378311157227),\n",
       " ('gras', 0.8451749086380005),\n",
       " ('wonderful', 0.8429638147354126),\n",
       " ('hq', 0.8413921594619751),\n",
       " ('days', 0.8344614505767822),\n",
       " ('known', 0.8340630531311035),\n",
       " ('followers', 0.8318740129470825)]"
      ]
     },
     "execution_count": 360,
     "metadata": {},
     "output_type": "execute_result"
    }
   ],
   "source": [
    "# Have a look at the results! The top 20 similar words associated with 'pancakes'\n",
    "w1 = 'pancake'\n",
    "model.wv.most_similar(positive=w1,topn=20)"
   ]
  },
  {
   "cell_type": "markdown",
   "metadata": {},
   "source": [
    "### Principal Component Analysis "
   ]
  },
  {
   "cell_type": "code",
   "execution_count": 151,
   "metadata": {},
   "outputs": [
    {
     "name": "stderr",
     "output_type": "stream",
     "text": [
      "/Users/audevuilliomenet/.pyenv/versions/3.7.2/lib/python3.7/site-packages/ipykernel_launcher.py:6: DeprecationWarning:\n",
      "\n",
      "Call to deprecated `__getitem__` (Method will be removed in 4.0.0, use self.wv.__getitem__() instead).\n",
      "\n"
     ]
    }
   ],
   "source": [
    "from sklearn.decomposition import PCA\n",
    "\n",
    "# import the vocabulary we have just created (Words Vectors)! \n",
    "vocab = list(model.wv.vocab)\n",
    "# Create the vector X holding the n dimensions for each words in the vocabulary!\n",
    "X = model[model.wv.vocab]\n",
    "\n",
    "# Reduce the n dimensions to 2D\n",
    "pca = PCA(n_components=2)\n",
    "result = pca.fit_transform(X)"
   ]
  },
  {
   "cell_type": "code",
   "execution_count": 152,
   "metadata": {},
   "outputs": [
    {
     "data": {
      "text/plain": [
       "array([[-0.09873653,  2.2721334 ],\n",
       "       [-0.30666324,  1.1827838 ],\n",
       "       [-0.7995679 ,  1.9151264 ]], dtype=float32)"
      ]
     },
     "execution_count": 152,
     "metadata": {},
     "output_type": "execute_result"
    }
   ],
   "source": [
    "# Have a look at the result - This should give a 2-Dimensional array! -> We can now plot it!\n",
    "result[:3]"
   ]
  },
  {
   "cell_type": "code",
   "execution_count": 153,
   "metadata": {
    "scrolled": false
   },
   "outputs": [
    {
     "data": {
      "image/png": "[encoded data removed]",
      "text/plain": [
       "<Figure size 432x288 with 1 Axes>"
      ]
     },
     "metadata": {
      "needs_background": "light"
     },
     "output_type": "display_data"
    }
   ],
   "source": [
    "# Visualize the results in a scatter plot!\n",
    "plt.scatter(result[:,0], result[:,1])\n",
    "\n",
    "# Add meaning of the words to the scatter plot!\n",
    "words = list(model.wv.vocab)\n",
    "for i, word in enumerate(words):\n",
    "    plt.annotate(word, xy=(result[i,0], result[i,1]))\n",
    "plt.show()"
   ]
  },
  {
   "cell_type": "code",
   "execution_count": 154,
   "metadata": {},
   "outputs": [
    {
     "data": {
      "text/plain": [
       "991"
      ]
     },
     "execution_count": 154,
     "metadata": {},
     "output_type": "execute_result"
    }
   ],
   "source": [
    "# Understand the length of the list! How many words are in the 1st PCA decomposition?\n",
    "test = list(model.wv.vocab)\n",
    "len(test)"
   ]
  },
  {
   "cell_type": "code",
   "execution_count": 155,
   "metadata": {
    "scrolled": false
   },
   "outputs": [],
   "source": [
    "# Find now similarity using the words embddings we have created!\n",
    "zipped = zip(model.wv.index2word, model.wv.vectors)\n",
    "\n",
    "wordresult = [i for i in zipped if i[0] == word]\n",
    "vecresult = [i for i in zipped if i[1] == vector]"
   ]
  },
  {
   "cell_type": "code",
   "execution_count": 735,
   "metadata": {
    "scrolled": true
   },
   "outputs": [],
   "source": [
    "# Find the 20 closest words to 'pancakes' and print the list!\n",
    "pancakes_similar = pd.DataFrame(model.wv.most_similar('pancakes',topn=20))\n",
    "#list(pancakes_similar[0])"
   ]
  },
  {
   "cell_type": "code",
   "execution_count": 157,
   "metadata": {
    "scrolled": true
   },
   "outputs": [
    {
     "data": {
      "text/html": [
       "<div>\n",
       "<style scoped>\n",
       "    .dataframe tbody tr th:only-of-type {\n",
       "        vertical-align: middle;\n",
       "    }\n",
       "\n",
       "    .dataframe tbody tr th {\n",
       "        vertical-align: top;\n",
       "    }\n",
       "\n",
       "    .dataframe thead th {\n",
       "        text-align: right;\n",
       "    }\n",
       "</style>\n",
       "<table border=\"1\" class=\"dataframe\">\n",
       "  <thead>\n",
       "    <tr style=\"text-align: right;\">\n",
       "      <th></th>\n",
       "      <th>words</th>\n",
       "      <th>x</th>\n",
       "      <th>y</th>\n",
       "    </tr>\n",
       "  </thead>\n",
       "  <tbody>\n",
       "    <tr>\n",
       "      <th>0</th>\n",
       "      <td>happy</td>\n",
       "      <td>-0.10</td>\n",
       "      <td>2.27</td>\n",
       "    </tr>\n",
       "    <tr>\n",
       "      <th>1</th>\n",
       "      <td>pancake</td>\n",
       "      <td>-0.31</td>\n",
       "      <td>1.18</td>\n",
       "    </tr>\n",
       "    <tr>\n",
       "      <th>2</th>\n",
       "      <td>day</td>\n",
       "      <td>-0.80</td>\n",
       "      <td>1.92</td>\n",
       "    </tr>\n",
       "    <tr>\n",
       "      <th>3</th>\n",
       "      <td>think</td>\n",
       "      <td>-0.02</td>\n",
       "      <td>-0.02</td>\n",
       "    </tr>\n",
       "  </tbody>\n",
       "</table>\n",
       "</div>"
      ],
      "text/plain": [
       "     words                                        x  \\\n",
       "0    happy                                    -0.10   \n",
       "1  pancake                                    -0.31   \n",
       "2      day                                    -0.80   \n",
       "3    think                                    -0.02   \n",
       "\n",
       "                                         y  \n",
       "0                                     2.27  \n",
       "1                                     1.18  \n",
       "2                                     1.92  \n",
       "3                                    -0.02  "
      ]
     },
     "execution_count": 157,
     "metadata": {},
     "output_type": "execute_result"
    }
   ],
   "source": [
    "# Create a dataframe with the similar words! With x,y-values! Coordinates of the words in 2D-Space!\n",
    "word_frame = pd.DataFrame(result, index=vocab, columns=['x', 'y'])\n",
    "word_frame.reset_index(inplace=True)\n",
    "word_frame.columns = ['words', 'x', 'y']\n",
    "word_frame.sort_values(by=['x','y'])\n",
    "word_frame.head(4)"
   ]
  },
  {
   "cell_type": "code",
   "execution_count": 158,
   "metadata": {},
   "outputs": [
    {
     "data": {
      "text/plain": [
       "[('homemade', 0.9717468023300171),\n",
       " ('crispy', 0.9709711670875549),\n",
       " ('buttermilk', 0.9682566523551941),\n",
       " ('berry', 0.9622741341590881),\n",
       " ('dessert', 0.9621036648750305),\n",
       " ('available', 0.9620315432548523),\n",
       " ('jam', 0.9592007994651794),\n",
       " ('treat', 0.958744466304779),\n",
       " ('compote', 0.9578506946563721),\n",
       " ('greek', 0.9577023386955261),\n",
       " ('thick', 0.9576148986816406),\n",
       " ('spinach', 0.9572811722755432),\n",
       " ('apple', 0.9568415880203247),\n",
       " ('blueberry', 0.9562163949012756),\n",
       " ('stack', 0.9561353325843811),\n",
       " ('raspberry', 0.9560062885284424),\n",
       " ('chip', 0.9554986357688904),\n",
       " ('drizzled', 0.9548152089118958),\n",
       " ('hazelnut', 0.9535385966300964),\n",
       " ('salted', 0.9534578323364258)]"
      ]
     },
     "execution_count": 158,
     "metadata": {},
     "output_type": "execute_result"
    }
   ],
   "source": [
    "model.wv.most_similar('pancakes',topn=20)"
   ]
  },
  {
   "cell_type": "code",
   "execution_count": 217,
   "metadata": {},
   "outputs": [],
   "source": [
    "nearest = word_frame[word_frame.words.isin(['homemade','crispy','buttermilk','berry','dessert',\n",
    "                                            'available','jam','treat','compote','greek','thick',\n",
    "                                            'spinach','apple','blueberry','stack','raspberry',\n",
    "                                            'chip','drizzled','hazelnut','salted','pancakes'])]"
   ]
  },
  {
   "cell_type": "code",
   "execution_count": 218,
   "metadata": {},
   "outputs": [
    {
     "data": {
      "application/vnd.plotly.v1+json": {
       "config": {
        "linkText": "Export to plot.ly",
        "plotlyServerURL": "https://plot.ly",
        "showLink": false
       },
       "data": [
        {
         "mode": "markers+text",
         "text": [
          "pancakes",
          "raspberry",
          "jam",
          "thick",
          "spinach",
          "homemade",
          "stack",
          "treat",
          "compote",
          "apple",
          "salted",
          "blueberry",
          "drizzled",
          "available",
          "chip",
          "crispy",
          "dessert",
          "buttermilk",
          "greek",
          "hazelnut",
          "berry"
         ],
         "textposition": "top left",
         "type": "scatter",
         "uid": "2cc4f8a3-3bc4-4ad4-914b-ff74fe1122f7",
         "x": [
          1.1590873003005981,
          0.9591956734657288,
          1.5945765972137451,
          1.0198951959609985,
          0.9519863724708557,
          1.2987220287322998,
          1.4477336406707764,
          0.9021403789520264,
          1.682387351989746,
          1.2256377935409546,
          1.272641897201538,
          1.9822580814361572,
          1.1689121723175049,
          1.108776330947876,
          0.7573308944702148,
          1.3360261917114258,
          1.1036508083343506,
          1.377055287361145,
          1.0793955326080322,
          1.045853614807129,
          1.0922709703445435
         ],
         "y": [
          -0.12267791479825974,
          -0.1120111346244812,
          -0.1351185292005539,
          -0.09518415480852127,
          -0.018516046926379204,
          -0.167236790060997,
          -0.37174731492996216,
          -0.26538214087486267,
          -0.25997671484947205,
          -0.22732742130756378,
          -0.18975308537483215,
          -0.30526357889175415,
          -0.006384987384080887,
          -0.48111534118652344,
          -0.08971307426691055,
          -0.10123439878225327,
          0.1410040557384491,
          -0.34239494800567627,
          -0.02382347173988819,
          -0.15330547094345093,
          -0.08845073729753494
         ]
        }
       ],
       "layout": {
        "height": 600,
        "title": {
         "text": "'Pancakes' Nearest Neighbours - No Hashtags"
        },
        "width": 600,
        "xaxis": {
         "title": {
          "text": "x"
         }
        },
        "yaxis": {
         "automargin": true,
         "title": {
          "text": "y"
         }
        }
       }
      },
      "text/html": [
       "<div id=\"dd54712d-69ef-42c1-a205-198504b8aefa\" style=\"height: 600px; width: 600px;\" class=\"plotly-graph-div\"></div><script type=\"text/javascript\">require([\"plotly\"], function(Plotly) { window.PLOTLYENV=window.PLOTLYENV || {};window.PLOTLYENV.BASE_URL=\"https://plot.ly\";Plotly.newPlot(\"dd54712d-69ef-42c1-a205-198504b8aefa\", [{\"mode\": \"markers+text\", \"text\": [\"pancakes\", \"raspberry\", \"jam\", \"thick\", \"spinach\", \"homemade\", \"stack\", \"treat\", \"compote\", \"apple\", \"salted\", \"blueberry\", \"drizzled\", \"available\", \"chip\", \"crispy\", \"dessert\", \"buttermilk\", \"greek\", \"hazelnut\", \"berry\"], \"textposition\": \"top left\", \"x\": [1.1590873003005981, 0.9591956734657288, 1.5945765972137451, 1.0198951959609985, 0.9519863724708557, 1.2987220287322998, 1.4477336406707764, 0.9021403789520264, 1.682387351989746, 1.2256377935409546, 1.272641897201538, 1.9822580814361572, 1.1689121723175049, 1.108776330947876, 0.7573308944702148, 1.3360261917114258, 1.1036508083343506, 1.377055287361145, 1.0793955326080322, 1.045853614807129, 1.0922709703445435], \"y\": [-0.12267791479825974, -0.1120111346244812, -0.1351185292005539, -0.09518415480852127, -0.018516046926379204, -0.167236790060997, -0.37174731492996216, -0.26538214087486267, -0.25997671484947205, -0.22732742130756378, -0.18975308537483215, -0.30526357889175415, -0.006384987384080887, -0.48111534118652344, -0.08971307426691055, -0.10123439878225327, 0.1410040557384491, -0.34239494800567627, -0.02382347173988819, -0.15330547094345093, -0.08845073729753494], \"type\": \"scatter\", \"uid\": \"2cc4f8a3-3bc4-4ad4-914b-ff74fe1122f7\"}], {\"height\": 600, \"title\": {\"text\": \"'Pancakes' Nearest Neighbours - No Hashtags\"}, \"width\": 600, \"xaxis\": {\"title\": {\"text\": \"x\"}}, \"yaxis\": {\"automargin\": true, \"title\": {\"text\": \"y\"}}}, {\"showLink\": false, \"linkText\": \"Export to plot.ly\", \"plotlyServerURL\": \"https://plot.ly\"})});</script>"
      ],
      "text/vnd.plotly.v1+html": [
       "<div id=\"dd54712d-69ef-42c1-a205-198504b8aefa\" style=\"height: 600px; width: 600px;\" class=\"plotly-graph-div\"></div><script type=\"text/javascript\">require([\"plotly\"], function(Plotly) { window.PLOTLYENV=window.PLOTLYENV || {};window.PLOTLYENV.BASE_URL=\"https://plot.ly\";Plotly.newPlot(\"dd54712d-69ef-42c1-a205-198504b8aefa\", [{\"mode\": \"markers+text\", \"text\": [\"pancakes\", \"raspberry\", \"jam\", \"thick\", \"spinach\", \"homemade\", \"stack\", \"treat\", \"compote\", \"apple\", \"salted\", \"blueberry\", \"drizzled\", \"available\", \"chip\", \"crispy\", \"dessert\", \"buttermilk\", \"greek\", \"hazelnut\", \"berry\"], \"textposition\": \"top left\", \"x\": [1.1590873003005981, 0.9591956734657288, 1.5945765972137451, 1.0198951959609985, 0.9519863724708557, 1.2987220287322998, 1.4477336406707764, 0.9021403789520264, 1.682387351989746, 1.2256377935409546, 1.272641897201538, 1.9822580814361572, 1.1689121723175049, 1.108776330947876, 0.7573308944702148, 1.3360261917114258, 1.1036508083343506, 1.377055287361145, 1.0793955326080322, 1.045853614807129, 1.0922709703445435], \"y\": [-0.12267791479825974, -0.1120111346244812, -0.1351185292005539, -0.09518415480852127, -0.018516046926379204, -0.167236790060997, -0.37174731492996216, -0.26538214087486267, -0.25997671484947205, -0.22732742130756378, -0.18975308537483215, -0.30526357889175415, -0.006384987384080887, -0.48111534118652344, -0.08971307426691055, -0.10123439878225327, 0.1410040557384491, -0.34239494800567627, -0.02382347173988819, -0.15330547094345093, -0.08845073729753494], \"type\": \"scatter\", \"uid\": \"2cc4f8a3-3bc4-4ad4-914b-ff74fe1122f7\"}], {\"height\": 600, \"title\": {\"text\": \"'Pancakes' Nearest Neighbours - No Hashtags\"}, \"width\": 600, \"xaxis\": {\"title\": {\"text\": \"x\"}}, \"yaxis\": {\"automargin\": true, \"title\": {\"text\": \"y\"}}}, {\"showLink\": false, \"linkText\": \"Export to plot.ly\", \"plotlyServerURL\": \"https://plot.ly\"})});</script>"
      ]
     },
     "metadata": {},
     "output_type": "display_data"
    }
   ],
   "source": [
    "# Make the scatter plot to vizualise the words connected to vegan!\n",
    "trace = [Scatter(\n",
    "        x=nearest['x'], # assign x as the dataframe column 'x' \n",
    "        y=nearest['y'],\n",
    "        text=nearest['words'],\n",
    "        mode = 'markers+text',\n",
    "        textposition='top left'\n",
    ")]\n",
    "\n",
    "layout = Layout(\n",
    "    title=\"'Pancakes' Nearest Neighbours - No Hashtags\",\n",
    "    xaxis=dict(title='x'),\n",
    "    yaxis=dict(title='y', automargin = True),\n",
    "    width=600, height = 600\n",
    ")\n",
    "\n",
    "fig = Figure(data=trace, layout=layout)\n",
    "\n",
    "iplot(fig)"
   ]
  },
  {
   "cell_type": "markdown",
   "metadata": {},
   "source": [
    "### Corpus with hashtags!"
   ]
  },
  {
   "cell_type": "code",
   "execution_count": 729,
   "metadata": {
    "scrolled": true
   },
   "outputs": [],
   "source": [
    "# Build the Word2Vec model\n",
    "model = word2vec.Word2Vec(list_all, \n",
    "                          size=150, \n",
    "                          window=8, \n",
    "                          min_count=40, \n",
    "                          workers=10)\n",
    "#model.train(list_all, total_examples=len(list_all), epochs=10)\n",
    "#model.wv['pancakes']"
   ]
  },
  {
   "cell_type": "code",
   "execution_count": 730,
   "metadata": {
    "scrolled": false
   },
   "outputs": [
    {
     "data": {
      "text/plain": [
       "[('offering', 0.7421575784683228),\n",
       " ('specials', 0.7321740984916687),\n",
       " ('cafe', 0.7311404943466187),\n",
       " ('excuse', 0.730993390083313),\n",
       " ('daypancakeday', 0.7267187833786011),\n",
       " ('7', 0.7252355813980103),\n",
       " ('indulge', 0.7242773175239563),\n",
       " ('person', 0.7242334485054016),\n",
       " ('restaurant', 0.7237724661827087),\n",
       " ('chefs', 0.7237200736999512),\n",
       " ('united', 0.7232937216758728),\n",
       " ('crempog', 0.7232900261878967),\n",
       " ('smile', 0.7212076187133789),\n",
       " ('meal', 0.7206800580024719),\n",
       " ('pancakespancakeday', 0.7203515768051147),\n",
       " ('starting', 0.7202239632606506),\n",
       " ('decided', 0.7199020981788635),\n",
       " ('snack', 0.7197684049606323),\n",
       " ('everyday', 0.7190679907798767),\n",
       " ('important', 0.7186092734336853)]"
      ]
     },
     "execution_count": 730,
     "metadata": {},
     "output_type": "execute_result"
    }
   ],
   "source": [
    "# Look at the hashtags that are similar to pancakes!\n",
    "w1 = 'pancakeday'\n",
    "model.wv.most_similar(positive=w1,topn=20)"
   ]
  },
  {
   "cell_type": "code",
   "execution_count": 712,
   "metadata": {},
   "outputs": [
    {
     "name": "stderr",
     "output_type": "stream",
     "text": [
      "/Users/audevuilliomenet/.pyenv/versions/3.7.2/lib/python3.7/site-packages/ipykernel_launcher.py:6: DeprecationWarning:\n",
      "\n",
      "Call to deprecated `__getitem__` (Method will be removed in 4.0.0, use self.wv.__getitem__() instead).\n",
      "\n"
     ]
    }
   ],
   "source": [
    "from sklearn.decomposition import PCA\n",
    "\n",
    "# import the vocabulary we have just created (Words Vectors)! \n",
    "vocab = list(model.wv.vocab)\n",
    "# Create the vector X holding the n dimensions for each words in the vocabulary!\n",
    "X = model[model.wv.vocab]\n",
    "\n",
    "# Reduce the n dimensions to 2D\n",
    "pca = PCA(n_components=2)\n",
    "result = pca.fit_transform(X)"
   ]
  },
  {
   "cell_type": "code",
   "execution_count": 629,
   "metadata": {
    "scrolled": false
   },
   "outputs": [
    {
     "data": {
      "text/plain": [
       "array([[-0.17658827,  2.2778091 ],\n",
       "       [ 0.08078184,  0.7209171 ],\n",
       "       [-0.7377649 ,  1.7139257 ]], dtype=float32)"
      ]
     },
     "execution_count": 629,
     "metadata": {},
     "output_type": "execute_result"
    }
   ],
   "source": [
    "# Have a look at the result - This should give a 2-Dimensional array! -> We can now plot it!\n",
    "result[:3]"
   ]
  },
  {
   "cell_type": "code",
   "execution_count": 630,
   "metadata": {
    "scrolled": true
   },
   "outputs": [
    {
     "data": {
      "image/png": "[encoded data removed]",
      "text/plain": [
       "<Figure size 432x288 with 1 Axes>"
      ]
     },
     "metadata": {
      "needs_background": "light"
     },
     "output_type": "display_data"
    }
   ],
   "source": [
    "# Visualize the results in a scatter plot!\n",
    "plt.scatter(result[:,0], result[:,1])\n",
    "\n",
    "# Add meaning of the words to the scatter plot!\n",
    "words = list(model.wv.vocab)\n",
    "for i, word in enumerate(words):\n",
    "    plt.annotate(word, xy=(result[i,0], result[i,1]))\n",
    "plt.show()"
   ]
  },
  {
   "cell_type": "code",
   "execution_count": 631,
   "metadata": {},
   "outputs": [
    {
     "data": {
      "text/plain": [
       "817"
      ]
     },
     "execution_count": 631,
     "metadata": {},
     "output_type": "execute_result"
    }
   ],
   "source": [
    "# Understand the length of the list! How many words are in the 1st PCA decomposition?\n",
    "test = list(model.wv.vocab)\n",
    "len(test)"
   ]
  },
  {
   "cell_type": "code",
   "execution_count": 632,
   "metadata": {},
   "outputs": [],
   "source": [
    "# Find now similarity using the words embddings we have created!\n",
    "zipped = zip(model.wv.index2word, model.wv.vectors)\n",
    "\n",
    "hashtagresult = [i for i in zipped if i[0] == word]\n",
    "vecresult = [i for i in zipped if i[1] == vector]"
   ]
  },
  {
   "cell_type": "code",
   "execution_count": 734,
   "metadata": {
    "scrolled": true
   },
   "outputs": [],
   "source": [
    "# Find the 20 closest words to 'pancakes' and print the list!\n",
    "pancakes_similar = pd.DataFrame(model.wv.most_similar('pancakeday',topn=20))\n",
    "#list(pancakes_similar[0])"
   ]
  },
  {
   "cell_type": "code",
   "execution_count": 634,
   "metadata": {
    "scrolled": true
   },
   "outputs": [
    {
     "data": {
      "text/html": [
       "<div>\n",
       "<style scoped>\n",
       "    .dataframe tbody tr th:only-of-type {\n",
       "        vertical-align: middle;\n",
       "    }\n",
       "\n",
       "    .dataframe tbody tr th {\n",
       "        vertical-align: top;\n",
       "    }\n",
       "\n",
       "    .dataframe thead th {\n",
       "        text-align: right;\n",
       "    }\n",
       "</style>\n",
       "<table border=\"1\" class=\"dataframe\">\n",
       "  <thead>\n",
       "    <tr style=\"text-align: right;\">\n",
       "      <th></th>\n",
       "      <th>words</th>\n",
       "      <th>x</th>\n",
       "      <th>y</th>\n",
       "    </tr>\n",
       "  </thead>\n",
       "  <tbody>\n",
       "    <tr>\n",
       "      <th>0</th>\n",
       "      <td>happy</td>\n",
       "      <td>-0.18</td>\n",
       "      <td>2.28</td>\n",
       "    </tr>\n",
       "    <tr>\n",
       "      <th>1</th>\n",
       "      <td>pancake</td>\n",
       "      <td>0.08</td>\n",
       "      <td>0.72</td>\n",
       "    </tr>\n",
       "    <tr>\n",
       "      <th>2</th>\n",
       "      <td>day</td>\n",
       "      <td>-0.74</td>\n",
       "      <td>1.71</td>\n",
       "    </tr>\n",
       "    <tr>\n",
       "      <th>3</th>\n",
       "      <td>pancakeday</td>\n",
       "      <td>0.01</td>\n",
       "      <td>0.41</td>\n",
       "    </tr>\n",
       "  </tbody>\n",
       "</table>\n",
       "</div>"
      ],
      "text/plain": [
       "        words                                        x  \\\n",
       "0       happy                                    -0.18   \n",
       "1     pancake                                     0.08   \n",
       "2         day                                    -0.74   \n",
       "3  pancakeday                                     0.01   \n",
       "\n",
       "                                         y  \n",
       "0                                     2.28  \n",
       "1                                     0.72  \n",
       "2                                     1.71  \n",
       "3                                     0.41  "
      ]
     },
     "execution_count": 634,
     "metadata": {},
     "output_type": "execute_result"
    }
   ],
   "source": [
    "# Create a dataframe with the similar words! With x,y-values! Coordinates of the words in 2D-Space!\n",
    "hashtag_frame = pd.DataFrame(result, index=vocab, columns=['x', 'y'])\n",
    "hashtag_frame.reset_index(inplace=True)\n",
    "hashtag_frame.columns = ['words', 'x', 'y']\n",
    "hashtag_frame.sort_values(by=['x','y'])\n",
    "hashtag_frame.head(4)"
   ]
  },
  {
   "cell_type": "code",
   "execution_count": 635,
   "metadata": {},
   "outputs": [
    {
     "data": {
      "text/plain": [
       "[('nationalpancakeday', 0.826763927936554),\n",
       " ('restaurant', 0.8184338808059692),\n",
       " ('english', 0.8175970911979675),\n",
       " ('indulge', 0.8166536092758179),\n",
       " ('specials', 0.8162581324577332),\n",
       " ('shrovetuesday2019', 0.8151681423187256),\n",
       " ('health', 0.814621090888977),\n",
       " ('cafe', 0.8119170069694519),\n",
       " ('foodies', 0.8090563416481018),\n",
       " ('open', 0.8086371421813965),\n",
       " ('united', 0.8083127737045288),\n",
       " ('feast', 0.8073768615722656),\n",
       " ('offering', 0.8035736083984375),\n",
       " ('however', 0.801826536655426),\n",
       " ('coffee', 0.8013437986373901),\n",
       " ('pancakeart', 0.8011349439620972),\n",
       " ('crempog', 0.800509512424469),\n",
       " ('dutch', 0.7997457981109619),\n",
       " ('pancakespancakeday', 0.7996771931648254),\n",
       " ('meal', 0.7995182871818542)]"
      ]
     },
     "execution_count": 635,
     "metadata": {},
     "output_type": "execute_result"
    }
   ],
   "source": [
    "model.wv.most_similar('pancakeday',topn=20)"
   ]
  },
  {
   "cell_type": "code",
   "execution_count": 636,
   "metadata": {},
   "outputs": [],
   "source": [
    "nearest_hashtag_pd = hashtag_frame[hashtag_frame.words.isin(['nationalpancakeday',\n",
    " 'restaurant',\n",
    " 'english',\n",
    " 'indulge',\n",
    " 'specials',\n",
    " 'shrovetuesday2019',\n",
    " 'health',\n",
    " 'cafe',\n",
    " 'foodies',\n",
    " 'open',\n",
    " 'united',\n",
    " 'feast',\n",
    " 'offering',\n",
    " 'however',\n",
    " 'coffee',\n",
    " 'pancakeart',\n",
    " 'crempog',\n",
    " 'dutch',\n",
    " 'pancakespancakeday',\n",
    " 'meal','pancakeday'])]"
   ]
  },
  {
   "cell_type": "code",
   "execution_count": 733,
   "metadata": {
    "scrolled": false
   },
   "outputs": [
    {
     "data": {
      "application/vnd.plotly.v1+json": {
       "config": {
        "linkText": "Export to plot.ly",
        "plotlyServerURL": "https://plot.ly",
        "showLink": false
       },
       "data": [
        {
         "mode": "markers+text",
         "text": [
          "pancakeday",
          "restaurant",
          "person",
          "meal",
          "nationalpancakeday",
          "dutch",
          "coffee",
          "pancakespancakeday",
          "united",
          "shrovetuesday2019",
          "especially",
          "cafe",
          "foodies",
          "menu",
          "selection",
          "indulge",
          "health",
          "nom",
          "shoplocal",
          "offering",
          "pancakerecipe"
         ],
         "textposition": "bottom right",
         "type": "scatter",
         "uid": "50a97dcd-5a15-407f-a903-e17c8cbc8cc8",
         "x": [
          0.039200808852910995,
          -0.01168376486748457,
          0.05508842319250107,
          0.20446830987930298,
          0.25907599925994873,
          0.18475106358528137,
          0.30308282375335693,
          -0.010687046684324741,
          -0.10770270973443985,
          -0.1421716958284378,
          0.080378457903862,
          0.12384235113859177,
          0.10609438270330429,
          0.4059825539588928,
          0.34186556935310364,
          0.2646833658218384,
          -0.06588643789291382,
          0.28461161255836487,
          0.13290581107139587,
          0.0053451694548130035,
          0.15982407331466675
         ],
         "y": [
          0.31244510412216187,
          0.1265641748905182,
          0.17479190230369568,
          0.07619187980890274,
          0.26556456089019775,
          0.027728859335184097,
          0.07272942364215851,
          0.1355150043964386,
          0.256094366312027,
          0.32416749000549316,
          0.024378858506679535,
          0.07851464301347733,
          0.12546710669994354,
          0.2942793369293213,
          0.2551220953464508,
          0.37817662954330444,
          -0.030955767259001732,
          0.042689792811870575,
          0.11668270081281662,
          0.22492483258247375,
          -0.09296863526105881
         ]
        }
       ],
       "layout": {
        "height": 600,
        "title": {
         "text": "'#PancakeDay' Nearest Neighbours"
        },
        "width": 800,
        "xaxis": {
         "title": {
          "text": "x"
         }
        },
        "yaxis": {
         "automargin": true,
         "title": {
          "text": "y"
         }
        }
       }
      },
      "text/html": [
       "<div id=\"25adbe28-b720-4db3-9c82-b790fcfb7e00\" style=\"height: 600px; width: 800px;\" class=\"plotly-graph-div\"></div><script type=\"text/javascript\">require([\"plotly\"], function(Plotly) { window.PLOTLYENV=window.PLOTLYENV || {};window.PLOTLYENV.BASE_URL=\"https://plot.ly\";Plotly.newPlot(\"25adbe28-b720-4db3-9c82-b790fcfb7e00\", [{\"mode\": \"markers+text\", \"text\": [\"pancakeday\", \"restaurant\", \"person\", \"meal\", \"nationalpancakeday\", \"dutch\", \"coffee\", \"pancakespancakeday\", \"united\", \"shrovetuesday2019\", \"especially\", \"cafe\", \"foodies\", \"menu\", \"selection\", \"indulge\", \"health\", \"nom\", \"shoplocal\", \"offering\", \"pancakerecipe\"], \"textposition\": \"bottom right\", \"x\": [0.039200808852910995, -0.01168376486748457, 0.05508842319250107, 0.20446830987930298, 0.25907599925994873, 0.18475106358528137, 0.30308282375335693, -0.010687046684324741, -0.10770270973443985, -0.1421716958284378, 0.080378457903862, 0.12384235113859177, 0.10609438270330429, 0.4059825539588928, 0.34186556935310364, 0.2646833658218384, -0.06588643789291382, 0.28461161255836487, 0.13290581107139587, 0.0053451694548130035, 0.15982407331466675], \"y\": [0.31244510412216187, 0.1265641748905182, 0.17479190230369568, 0.07619187980890274, 0.26556456089019775, 0.027728859335184097, 0.07272942364215851, 0.1355150043964386, 0.256094366312027, 0.32416749000549316, 0.024378858506679535, 0.07851464301347733, 0.12546710669994354, 0.2942793369293213, 0.2551220953464508, 0.37817662954330444, -0.030955767259001732, 0.042689792811870575, 0.11668270081281662, 0.22492483258247375, -0.09296863526105881], \"type\": \"scatter\", \"uid\": \"50a97dcd-5a15-407f-a903-e17c8cbc8cc8\"}], {\"height\": 600, \"title\": {\"text\": \"'#PancakeDay' Nearest Neighbours\"}, \"width\": 800, \"xaxis\": {\"title\": {\"text\": \"x\"}}, \"yaxis\": {\"automargin\": true, \"title\": {\"text\": \"y\"}}}, {\"showLink\": false, \"linkText\": \"Export to plot.ly\", \"plotlyServerURL\": \"https://plot.ly\"})});</script>"
      ],
      "text/vnd.plotly.v1+html": [
       "<div id=\"25adbe28-b720-4db3-9c82-b790fcfb7e00\" style=\"height: 600px; width: 800px;\" class=\"plotly-graph-div\"></div><script type=\"text/javascript\">require([\"plotly\"], function(Plotly) { window.PLOTLYENV=window.PLOTLYENV || {};window.PLOTLYENV.BASE_URL=\"https://plot.ly\";Plotly.newPlot(\"25adbe28-b720-4db3-9c82-b790fcfb7e00\", [{\"mode\": \"markers+text\", \"text\": [\"pancakeday\", \"restaurant\", \"person\", \"meal\", \"nationalpancakeday\", \"dutch\", \"coffee\", \"pancakespancakeday\", \"united\", \"shrovetuesday2019\", \"especially\", \"cafe\", \"foodies\", \"menu\", \"selection\", \"indulge\", \"health\", \"nom\", \"shoplocal\", \"offering\", \"pancakerecipe\"], \"textposition\": \"bottom right\", \"x\": [0.039200808852910995, -0.01168376486748457, 0.05508842319250107, 0.20446830987930298, 0.25907599925994873, 0.18475106358528137, 0.30308282375335693, -0.010687046684324741, -0.10770270973443985, -0.1421716958284378, 0.080378457903862, 0.12384235113859177, 0.10609438270330429, 0.4059825539588928, 0.34186556935310364, 0.2646833658218384, -0.06588643789291382, 0.28461161255836487, 0.13290581107139587, 0.0053451694548130035, 0.15982407331466675], \"y\": [0.31244510412216187, 0.1265641748905182, 0.17479190230369568, 0.07619187980890274, 0.26556456089019775, 0.027728859335184097, 0.07272942364215851, 0.1355150043964386, 0.256094366312027, 0.32416749000549316, 0.024378858506679535, 0.07851464301347733, 0.12546710669994354, 0.2942793369293213, 0.2551220953464508, 0.37817662954330444, -0.030955767259001732, 0.042689792811870575, 0.11668270081281662, 0.22492483258247375, -0.09296863526105881], \"type\": \"scatter\", \"uid\": \"50a97dcd-5a15-407f-a903-e17c8cbc8cc8\"}], {\"height\": 600, \"title\": {\"text\": \"'#PancakeDay' Nearest Neighbours\"}, \"width\": 800, \"xaxis\": {\"title\": {\"text\": \"x\"}}, \"yaxis\": {\"automargin\": true, \"title\": {\"text\": \"y\"}}}, {\"showLink\": false, \"linkText\": \"Export to plot.ly\", \"plotlyServerURL\": \"https://plot.ly\"})});</script>"
      ]
     },
     "metadata": {},
     "output_type": "display_data"
    }
   ],
   "source": [
    "# Make the scatter plot to vizualise the words connected to vegan!\n",
    "trace = [Scatter(\n",
    "        x=nearest_hashtag ['x'], # assign x as the dataframe column 'x' \n",
    "        y=nearest_hashtag ['y'],\n",
    "        text=nearest_hashtag ['words'],\n",
    "        mode = 'markers+text',\n",
    "        textposition='bottom right'\n",
    ")]\n",
    "\n",
    "layout = Layout(\n",
    "    title=\"'#PancakeDay' Nearest Neighbours\",\n",
    "    xaxis=dict( title='x'),\n",
    "    yaxis=dict(title='y', automargin = True),\n",
    "    width=800, height = 600 \n",
    "    \n",
    ")\n",
    "\n",
    "fig = Figure(data=trace, layout=layout)\n",
    "\n",
    "iplot(fig)"
   ]
  }
 ],
 "metadata": {
  "kernelspec": {
   "display_name": "Python 3",
   "language": "python",
   "name": "python3"
  },
  "language_info": {
   "codemirror_mode": {
    "name": "ipython",
    "version": 3
   },
   "file_extension": ".py",
   "mimetype": "text/x-python",
   "name": "python",
   "nbconvert_exporter": "python",
   "pygments_lexer": "ipython3",
   "version": "3.7.2"
  }
 },
 "nbformat": 4,
 "nbformat_minor": 2
}
